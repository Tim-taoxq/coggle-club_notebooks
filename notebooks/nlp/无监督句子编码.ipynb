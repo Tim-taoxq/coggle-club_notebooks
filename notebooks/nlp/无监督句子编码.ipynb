{
 "cells": [
  {
   "cell_type": "code",
   "execution_count": 1,
   "metadata": {},
   "outputs": [
    {
     "name": "stdout",
     "output_type": "stream",
     "text": [
      "--2022-01-23 08:19:30--  https://mirror.coggle.club/dataset/afqmc_public.zip\n",
      "正在解析主机 mirror.coggle.club (mirror.coggle.club)... 124.95.157.146, 2408:8722:1010:1:3::3fb\n",
      "正在连接 mirror.coggle.club (mirror.coggle.club)|124.95.157.146|:443... 已连接。\n",
      "已发出 HTTP 请求，正在等待回应... 200 OK\n",
      "长度： 1195044 (1.1M) [application/zip]\n",
      "正在保存至: “afqmc_public.zip”\n",
      "\n",
      "afqmc_public.zip    100%[===================>]   1.14M   323KB/s    用时 3.6s    \n",
      "\n",
      "2022-01-23 08:19:35 (323 KB/s) - 已保存 “afqmc_public.zip” [1195044/1195044])\n",
      "\n",
      "Archive:  afqmc_public.zip\n",
      "  inflating: afqmc_public/train.json  \n",
      "  inflating: afqmc_public/test.json  \n",
      "  inflating: afqmc_public/dev.json   \n"
     ]
    }
   ],
   "source": [
    "# !wget https://mirror.coggle.club/dataset/afqmc_public.zip\n",
    "# !unzip afqmc_public.zip -d afqmc_public"
   ]
  },
  {
   "cell_type": "markdown",
   "metadata": {},
   "source": [
    "# 数据处理"
   ]
  },
  {
   "cell_type": "code",
   "execution_count": 1,
   "metadata": {},
   "outputs": [
    {
     "name": "stdout",
     "output_type": "stream",
     "text": [
      "Populating the interactive namespace from numpy and matplotlib\n"
     ]
    },
    {
     "data": {
      "text/html": [
       "<div>\n",
       "<style scoped>\n",
       "    .dataframe tbody tr th:only-of-type {\n",
       "        vertical-align: middle;\n",
       "    }\n",
       "\n",
       "    .dataframe tbody tr th {\n",
       "        vertical-align: top;\n",
       "    }\n",
       "\n",
       "    .dataframe thead th {\n",
       "        text-align: right;\n",
       "    }\n",
       "</style>\n",
       "<table border=\"1\" class=\"dataframe\">\n",
       "  <thead>\n",
       "    <tr style=\"text-align: right;\">\n",
       "      <th></th>\n",
       "      <th>sentence1</th>\n",
       "      <th>sentence2</th>\n",
       "      <th>label</th>\n",
       "    </tr>\n",
       "  </thead>\n",
       "  <tbody>\n",
       "    <tr>\n",
       "      <th>0</th>\n",
       "      <td>蚂蚁借呗等额还款可以换成先息后本吗</td>\n",
       "      <td>借呗有先息到期还本吗</td>\n",
       "      <td>0</td>\n",
       "    </tr>\n",
       "    <tr>\n",
       "      <th>1</th>\n",
       "      <td>蚂蚁花呗说我违约一次</td>\n",
       "      <td>蚂蚁花呗违约行为是什么</td>\n",
       "      <td>0</td>\n",
       "    </tr>\n",
       "    <tr>\n",
       "      <th>2</th>\n",
       "      <td>帮我看一下本月花呗账单有没有结清</td>\n",
       "      <td>下月花呗账单</td>\n",
       "      <td>0</td>\n",
       "    </tr>\n",
       "    <tr>\n",
       "      <th>3</th>\n",
       "      <td>蚂蚁借呗多长时间综合评估一次</td>\n",
       "      <td>借呗得评估多久</td>\n",
       "      <td>0</td>\n",
       "    </tr>\n",
       "    <tr>\n",
       "      <th>4</th>\n",
       "      <td>我的花呗账单是***，还款怎么是***</td>\n",
       "      <td>我的花呗，月结出来说让我还***元，我自己算了一下详细名单我应该还***元</td>\n",
       "      <td>1</td>\n",
       "    </tr>\n",
       "    <tr>\n",
       "      <th>...</th>\n",
       "      <td>...</td>\n",
       "      <td>...</td>\n",
       "      <td>...</td>\n",
       "    </tr>\n",
       "    <tr>\n",
       "      <th>38645</th>\n",
       "      <td>使用的借呗之后，可以出国吗，因为我的工作在国外，我需要在国外还款</td>\n",
       "      <td>借呗这个月分期还款了，还了的钱还可以再次取出用吗</td>\n",
       "      <td>0</td>\n",
       "    </tr>\n",
       "    <tr>\n",
       "      <th>38646</th>\n",
       "      <td>还要多久能开通花呗</td>\n",
       "      <td>花呗要多久才会重新开通</td>\n",
       "      <td>0</td>\n",
       "    </tr>\n",
       "    <tr>\n",
       "      <th>38647</th>\n",
       "      <td>怎样设置花呗访问手机通讯录</td>\n",
       "      <td>花呗读取不了手机通讯录权限</td>\n",
       "      <td>0</td>\n",
       "    </tr>\n",
       "    <tr>\n",
       "      <th>38648</th>\n",
       "      <td>花呗的学历填错了，可不可以改</td>\n",
       "      <td>花呗学历填错了怎样修改</td>\n",
       "      <td>0</td>\n",
       "    </tr>\n",
       "    <tr>\n",
       "      <th>38649</th>\n",
       "      <td>我的淘宝绑不了花呗</td>\n",
       "      <td>怎么花呗绑不了淘宝</td>\n",
       "      <td>1</td>\n",
       "    </tr>\n",
       "  </tbody>\n",
       "</table>\n",
       "<p>38650 rows × 3 columns</p>\n",
       "</div>"
      ],
      "text/plain": [
       "                              sentence1  \\\n",
       "0                     蚂蚁借呗等额还款可以换成先息后本吗   \n",
       "1                            蚂蚁花呗说我违约一次   \n",
       "2                      帮我看一下本月花呗账单有没有结清   \n",
       "3                        蚂蚁借呗多长时间综合评估一次   \n",
       "4                   我的花呗账单是***，还款怎么是***   \n",
       "...                                 ...   \n",
       "38645  使用的借呗之后，可以出国吗，因为我的工作在国外，我需要在国外还款   \n",
       "38646                         还要多久能开通花呗   \n",
       "38647                     怎样设置花呗访问手机通讯录   \n",
       "38648                    花呗的学历填错了，可不可以改   \n",
       "38649                         我的淘宝绑不了花呗   \n",
       "\n",
       "                                   sentence2 label  \n",
       "0                                 借呗有先息到期还本吗     0  \n",
       "1                                蚂蚁花呗违约行为是什么     0  \n",
       "2                                     下月花呗账单     0  \n",
       "3                                    借呗得评估多久     0  \n",
       "4      我的花呗，月结出来说让我还***元，我自己算了一下详细名单我应该还***元     1  \n",
       "...                                      ...   ...  \n",
       "38645               借呗这个月分期还款了，还了的钱还可以再次取出用吗     0  \n",
       "38646                            花呗要多久才会重新开通     0  \n",
       "38647                          花呗读取不了手机通讯录权限     0  \n",
       "38648                            花呗学历填错了怎样修改     0  \n",
       "38649                              怎么花呗绑不了淘宝     1  \n",
       "\n",
       "[38650 rows x 3 columns]"
      ]
     },
     "execution_count": 1,
     "metadata": {},
     "output_type": "execute_result"
    }
   ],
   "source": [
    "import os, json, codecs\n",
    "import pandas as pd\n",
    "import numpy as np\n",
    "import jieba, gensim\n",
    "%pylab inline\n",
    "import seaborn as sbs\n",
    "\n",
    "train_json = codecs.open('afqmc_public/train.json').readlines()\n",
    "train_json = [json.loads(x) for x in train_json]\n",
    "\n",
    "dev_json = codecs.open('afqmc_public/dev.json').readlines()\n",
    "dev_json = [json.loads(x) for x in dev_json]\n",
    "\n",
    "train_data = pd.DataFrame(train_json + dev_json)\n",
    "train_data"
   ]
  },
  {
   "cell_type": "code",
   "execution_count": 2,
   "metadata": {},
   "outputs": [
    {
     "name": "stderr",
     "output_type": "stream",
     "text": [
      "Building prefix dict from the default dictionary ...\n",
      "Dumping model to file cache /tmp/jieba.cache\n",
      "Loading model cost 0.781 seconds.\n",
      "Prefix dict has been built successfully.\n"
     ]
    }
   ],
   "source": [
    "train_sentence1 = train_data['sentence1'].apply(lambda x: list(jieba.cut(x.replace('*', ''))))\n",
    "train_sentence2 = train_data['sentence2'].apply(lambda x: list(jieba.cut(x.replace('*', ''))))"
   ]
  },
  {
   "cell_type": "code",
   "execution_count": 3,
   "metadata": {},
   "outputs": [
    {
     "data": {
      "text/plain": [
       "0                  [蚂蚁, 借, 呗, 等额, 还款, 可以, 换成, 先息, 后, 本, 吗]\n",
       "1                                 [蚂蚁, 花, 呗, 说, 我, 违约, 一次]\n",
       "2                     [帮, 我, 看, 一下, 本月, 花, 呗, 账单, 有没有, 结清]\n",
       "3                             [蚂蚁, 借, 呗, 多长时间, 综合, 评估, 一次]\n",
       "4                        [我, 的, 花, 呗, 账单, 是, ，, 还款, 怎么, 是]\n",
       "                               ...                        \n",
       "38645    [使用, 的, 借, 呗, 之后, ，, 可以, 出国, 吗, ，, 因为, 我, 的, 工...\n",
       "38646                                [还要, 多久, 能, 开通, 花, 呗]\n",
       "38647                          [怎样, 设置, 花, 呗, 访问, 手机, 通讯录]\n",
       "38648                     [花, 呗, 的, 学历, 填错, 了, ，, 可不可以, 改]\n",
       "38649                              [我, 的, 淘宝, 绑, 不了, 花, 呗]\n",
       "Name: sentence1, Length: 38650, dtype: object"
      ]
     },
     "execution_count": 3,
     "metadata": {},
     "output_type": "execute_result"
    }
   ],
   "source": [
    "train_sentence1"
   ]
  },
  {
   "cell_type": "markdown",
   "metadata": {},
   "source": [
    "# 训练Word2Vec"
   ]
  },
  {
   "cell_type": "code",
   "execution_count": 4,
   "metadata": {},
   "outputs": [],
   "source": [
    "model = gensim.models.Word2Vec(sentences=train_sentence1 + train_sentence2, \n",
    "                                   vector_size=100, window=5, min_count=1, workers=4)\n",
    "model.save(\"word2vec.model\")"
   ]
  },
  {
   "cell_type": "code",
   "execution_count": 5,
   "metadata": {},
   "outputs": [
    {
     "data": {
      "text/plain": [
       "[('顾客', 0.9444351196289062),\n",
       " ('客人', 0.9340370893478394),\n",
       " ('买家', 0.9080636501312256),\n",
       " ('口碑', 0.9019301533699036),\n",
       " ('店铺', 0.8943435549736023),\n",
       " ('商户', 0.8719239830970764),\n",
       " ('扫', 0.8416370749473572),\n",
       " ('向', 0.8202187418937683),\n",
       " ('当面', 0.8193756341934204),\n",
       " ('人家', 0.8153225183486938)]"
      ]
     },
     "execution_count": 5,
     "metadata": {},
     "output_type": "execute_result"
    }
   ],
   "source": [
    "model.wv.most_similar('客户')"
   ]
  },
  {
   "cell_type": "code",
   "execution_count": 6,
   "metadata": {},
   "outputs": [
    {
     "data": {
      "text/plain": [
       "array([-0.22285709, -0.15922348, -0.09186552,  0.80624914, -0.4646926 ,\n",
       "       -0.558344  ,  0.5610685 ,  0.42486352, -0.5246372 , -0.30065185,\n",
       "       -0.58015746, -0.9088494 ,  0.32266712,  0.680608  , -0.13058656,\n",
       "       -0.22997667,  0.1047236 , -0.38451314,  0.03001483, -0.7118729 ,\n",
       "        0.7983152 ,  0.39554375,  0.39508587,  0.81738466,  0.28954676,\n",
       "        0.55993956,  0.16604969, -0.06719798, -0.11952766,  0.07739814,\n",
       "        0.03282386,  0.05381026,  0.7517788 , -0.23061617,  0.41787574,\n",
       "        0.39359957,  0.29080775, -0.7472741 , -0.52234954, -0.4435867 ,\n",
       "        0.31004262, -0.75693905, -0.01570158, -0.21923868,  0.15152332,\n",
       "        0.04119374, -0.5509554 , -0.31096122,  0.11871855, -1.0280432 ,\n",
       "        0.29447117, -0.15362723, -0.16881391, -0.3225671 , -0.05096226,\n",
       "       -0.01893405,  0.16975991, -0.25489917, -0.25233012, -0.01053992,\n",
       "       -0.2450923 , -0.53756994, -0.27630597, -0.07334035, -0.19924028,\n",
       "        0.21671961,  0.2230083 ,  0.5888119 , -0.34663934,  0.2795648 ,\n",
       "       -0.73890644, -0.24925815, -0.3877863 , -0.2565886 ,  0.47968745,\n",
       "        0.26714066,  0.3222914 ,  0.38155112,  0.44006744, -0.21632375,\n",
       "       -0.24629763,  0.29850537,  0.01832781, -0.42271307, -0.05307665,\n",
       "       -0.32105985,  0.68007845, -0.28007576,  0.579378  , -0.22036637,\n",
       "        0.06423527,  0.46775752, -0.621488  , -0.4253591 , -0.2488479 ,\n",
       "        0.31009188, -0.48619446, -0.09184262,  0.08720241,  0.6204805 ],\n",
       "      dtype=float32)"
      ]
     },
     "execution_count": 6,
     "metadata": {},
     "output_type": "execute_result"
    }
   ],
   "source": [
    "model.wv['客户']"
   ]
  },
  {
   "cell_type": "markdown",
   "metadata": {},
   "source": [
    "# 序列编码"
   ]
  },
  {
   "cell_type": "code",
   "execution_count": 7,
   "metadata": {},
   "outputs": [],
   "source": [
    "# 第一个样本的第一个句子\n",
    "arr1 = np.vstack([model.wv[x] for x in train_sentence1[0]])\n",
    "\n",
    "# 第一个样本的第二个句子\n",
    "arr2 = np.vstack([model.wv[x] for x in train_sentence2[0]])"
   ]
  },
  {
   "cell_type": "code",
   "execution_count": 8,
   "metadata": {},
   "outputs": [
    {
     "data": {
      "text/plain": [
       "((11, 100), (7, 100))"
      ]
     },
     "execution_count": 8,
     "metadata": {},
     "output_type": "execute_result"
    }
   ],
   "source": [
    "arr1.shape, arr2.shape"
   ]
  },
  {
   "cell_type": "code",
   "execution_count": 9,
   "metadata": {},
   "outputs": [],
   "source": [
    "def encode_sentence(sentence):\n",
    "    arr = []\n",
    "    for x in sentence:\n",
    "        arr.append(model.wv[x])\n",
    "        \n",
    "    if len(arr) == 0:\n",
    "        return np.zeros(shape=(1, 100))\n",
    "    else:\n",
    "        return np.vstack(arr)"
   ]
  },
  {
   "cell_type": "code",
   "execution_count": 10,
   "metadata": {},
   "outputs": [],
   "source": [
    "train_sentence1_feat = [ encode_sentence(x) for x in train_sentence1]\n",
    "train_sentence2_feat = [ encode_sentence(x) for x in train_sentence2]"
   ]
  },
  {
   "cell_type": "markdown",
   "metadata": {},
   "source": [
    "## mean-pooling"
   ]
  },
  {
   "cell_type": "code",
   "execution_count": 11,
   "metadata": {},
   "outputs": [],
   "source": [
    "train_sentence1_meanfeat = np.vstack([x.mean(0) for x in train_sentence1_feat])\n",
    "train_sentence2_meanfeat = np.vstack([x.mean(0) for x in train_sentence2_feat])\n",
    "\n",
    "from sklearn.preprocessing import normalize\n",
    "train_sentence1_meanfeat = normalize(train_sentence1_meanfeat)\n",
    "train_sentence2_meanfeat = normalize(train_sentence2_meanfeat)"
   ]
  },
  {
   "cell_type": "code",
   "execution_count": 12,
   "metadata": {},
   "outputs": [
    {
     "data": {
      "text/plain": [
       "0.857872283257604"
      ]
     },
     "execution_count": 12,
     "metadata": {},
     "output_type": "execute_result"
    }
   ],
   "source": [
    "train_sentence1_meanfeat[0].dot(train_sentence2_meanfeat[0])"
   ]
  },
  {
   "cell_type": "code",
   "execution_count": 13,
   "metadata": {},
   "outputs": [],
   "source": [
    "mean_pooing_distance = [np.dot(x, y) for x, y in \n",
    "                        zip(train_sentence1_meanfeat, train_sentence2_meanfeat)]\n",
    "\n",
    "# 所有样本的 句子1 与 句子2 的mean-pooing的相似度\n",
    "# 句子1 -》 100\n",
    "# 句子2 -》 100\n",
    "train_data['mean_pooing'] = mean_pooing_distance"
   ]
  },
  {
   "cell_type": "code",
   "execution_count": 14,
   "metadata": {},
   "outputs": [
    {
     "data": {
      "text/plain": [
       "<AxesSubplot:xlabel='label'>"
      ]
     },
     "execution_count": 14,
     "metadata": {},
     "output_type": "execute_result"
    },
    {
     "data": {
      "image/png": "[encoded data removed]",
      "text/plain": [
       "<Figure size 432x288 with 1 Axes>"
      ]
     },
     "metadata": {
      "needs_background": "light"
     },
     "output_type": "display_data"
    }
   ],
   "source": [
    "train_data.groupby('label')['mean_pooing'].mean().plot(kind='bar')"
   ]
  },
  {
   "cell_type": "markdown",
   "metadata": {},
   "source": [
    "## max-pooling"
   ]
  },
  {
   "cell_type": "code",
   "execution_count": 15,
   "metadata": {},
   "outputs": [],
   "source": [
    "train_sentence1_meanfeat = np.vstack([x.max(0) for x in train_sentence1_feat])\n",
    "train_sentence2_meanfeat = np.vstack([x.max(0) for x in train_sentence2_feat])\n",
    "\n",
    "from sklearn.preprocessing import normalize\n",
    "train_sentence1_meanfeat = normalize(train_sentence1_meanfeat)\n",
    "train_sentence2_meanfeat = normalize(train_sentence2_meanfeat)\n",
    "\n",
    "max_pooing_distance = [np.dot(x, y) for x, y in \n",
    "                        zip(train_sentence1_meanfeat, train_sentence2_meanfeat)]\n",
    "train_data['max_pooing'] = max_pooing_distance"
   ]
  },
  {
   "cell_type": "code",
   "execution_count": 16,
   "metadata": {},
   "outputs": [
    {
     "data": {
      "text/plain": [
       "<AxesSubplot:xlabel='label'>"
      ]
     },
     "execution_count": 16,
     "metadata": {},
     "output_type": "execute_result"
    },
    {
     "data": {
      "image/png": "[encoded data removed]",
      "text/plain": [
       "<Figure size 432x288 with 1 Axes>"
      ]
     },
     "metadata": {
      "needs_background": "light"
     },
     "output_type": "display_data"
    }
   ],
   "source": [
    "train_data.groupby('label')['max_pooing'].mean().plot(kind='bar')"
   ]
  },
  {
   "cell_type": "markdown",
   "metadata": {},
   "source": [
    "## TFIDF Pooling"
   ]
  },
  {
   "cell_type": "code",
   "execution_count": 17,
   "metadata": {},
   "outputs": [
    {
     "data": {
      "text/plain": [
       "TfidfVectorizer(max_features=100000)"
      ]
     },
     "execution_count": 17,
     "metadata": {},
     "output_type": "execute_result"
    }
   ],
   "source": [
    "from sklearn.feature_extraction.text import TfidfVectorizer\n",
    "\n",
    "tfidf = TfidfVectorizer(max_features=100000)\n",
    "tfidf.fit([' '.join(x) for x in train_sentence1 + train_sentence2])"
   ]
  },
  {
   "cell_type": "code",
   "execution_count": 18,
   "metadata": {},
   "outputs": [
    {
     "data": {
      "text/plain": [
       "2.521590339312075"
      ]
     },
     "execution_count": 18,
     "metadata": {},
     "output_type": "execute_result"
    }
   ],
   "source": [
    "tfidf.idf_[tfidf.vocabulary_['蚂蚁']]"
   ]
  },
  {
   "cell_type": "code",
   "execution_count": 19,
   "metadata": {},
   "outputs": [],
   "source": [
    "def tfidf_pooing(sentence, sentence_word2vec):\n",
    "    weights = []\n",
    "    feats = []\n",
    "    for word,feat in zip(sentence, sentence_word2vec):\n",
    "        if word in tfidf.vocabulary_:\n",
    "            weights.append(tfidf.idf_[tfidf.vocabulary_[word]])\n",
    "            feats.append(feat)\n",
    "    weights = np.array(weights)\n",
    "    feats = np.array(feats)\n",
    "    \n",
    "    if len(feats) == 0:\n",
    "        return np.zeros(100)\n",
    "    else:\n",
    "        return np.matmul(weights, feats)"
   ]
  },
  {
   "cell_type": "code",
   "execution_count": 61,
   "metadata": {},
   "outputs": [],
   "source": [
    "train_sentence1_tfidffeat = [tfidf_pooing(sentence, sentence_feat) \n",
    "    for sentence, sentence_feat in zip(train_sentence1[:], train_sentence1_feat[:])]\n",
    "\n",
    "train_sentence2_tfidffeat = [tfidf_pooing(sentence, sentence_feat) \n",
    "    for sentence, sentence_feat in zip(train_sentence2[:], train_sentence2_feat[:])]"
   ]
  },
  {
   "cell_type": "code",
   "execution_count": 63,
   "metadata": {},
   "outputs": [],
   "source": [
    "from sklearn.preprocessing import normalize\n",
    "\n",
    "train_sentence1_tfidffeat = np.vstack(train_sentence1_tfidffeat)\n",
    "train_sentence2_tfidffeat = np.vstack(train_sentence2_tfidffeat)\n",
    "\n",
    "train_sentence1_tfidffeat = normalize(train_sentence1_tfidffeat)\n",
    "train_sentence2_tfidffeat = normalize(train_sentence2_tfidffeat)\n",
    "\n",
    "tfidf_pooing_distance = [np.dot(x, y) for x, y in \n",
    "                        zip(train_sentence1_tfidffeat, train_sentence2_tfidffeat)]\n",
    "train_data['tfidf_pooing'] = tfidf_pooing_distance"
   ]
  },
  {
   "cell_type": "code",
   "execution_count": 64,
   "metadata": {},
   "outputs": [
    {
     "data": {
      "text/plain": [
       "<AxesSubplot:xlabel='label'>"
      ]
     },
     "execution_count": 64,
     "metadata": {},
     "output_type": "execute_result"
    },
    {
     "data": {
      "image/png": "[encoded data removed]",
      "text/plain": [
       "<Figure size 432x288 with 1 Axes>"
      ]
     },
     "metadata": {
      "needs_background": "light"
     },
     "output_type": "display_data"
    }
   ],
   "source": [
    "train_data.groupby('label')['tfidf_pooing'].mean().plot(kind='bar')"
   ]
  },
  {
   "cell_type": "markdown",
   "metadata": {},
   "source": [
    "## SIF Embedding"
   ]
  },
  {
   "cell_type": "markdown",
   "metadata": {},
   "source": [
    "> https://github.com/PrincetonML/SIF/blob/master/src/SIF_embedding.py"
   ]
  },
  {
   "cell_type": "code",
   "execution_count": 25,
   "metadata": {},
   "outputs": [
    {
     "data": {
      "text/plain": [
       "TruncatedSVD(n_components=1, n_iter=7, random_state=0)"
      ]
     },
     "execution_count": 25,
     "metadata": {},
     "output_type": "execute_result"
    }
   ],
   "source": [
    "from sklearn.decomposition import TruncatedSVD\n",
    "\n",
    "svd = TruncatedSVD(n_components=1, n_iter=7, random_state=0)\n",
    "svd.fit(train_sentence1_tfidffeat)"
   ]
  },
  {
   "cell_type": "code",
   "execution_count": 26,
   "metadata": {},
   "outputs": [],
   "source": [
    "train_sentence1_siffeat = train_sentence1_tfidffeat - \\\n",
    "        train_sentence1_tfidffeat.dot(np.transpose(svd.components_)).dot(svd.components_)\n",
    "    \n",
    "train_sentence2_siffeat = train_sentence2_tfidffeat - \\\n",
    "        train_sentence2_tfidffeat.dot(np.transpose(svd.components_)).dot(svd.components_)"
   ]
  },
  {
   "cell_type": "code",
   "execution_count": 27,
   "metadata": {},
   "outputs": [],
   "source": [
    "train_sentence1_siffeat = normalize(train_sentence1_siffeat)\n",
    "train_sentence2_siffeat = normalize(train_sentence2_siffeat)\n",
    "\n",
    "sif_embedding_distance = [np.dot(x, y) for x, y in \n",
    "                        zip(train_sentence1_siffeat, train_sentence2_siffeat)]\n",
    "train_data['sif_embedding'] = sif_embedding_distance"
   ]
  },
  {
   "cell_type": "code",
   "execution_count": 28,
   "metadata": {},
   "outputs": [
    {
     "data": {
      "text/plain": [
       "<AxesSubplot:xlabel='label'>"
      ]
     },
     "execution_count": 28,
     "metadata": {},
     "output_type": "execute_result"
    },
    {
     "data": {
      "image/png": "[encoded data removed]",
      "text/plain": [
       "<Figure size 432x288 with 1 Axes>"
      ]
     },
     "metadata": {
      "needs_background": "light"
     },
     "output_type": "display_data"
    }
   ],
   "source": [
    "train_data.groupby('label')['sif_embedding'].mean().plot(kind='bar')"
   ]
  },
  {
   "cell_type": "code",
   "execution_count": 29,
   "metadata": {},
   "outputs": [
    {
     "data": {
      "text/html": [
       "<div>\n",
       "<style scoped>\n",
       "    .dataframe tbody tr th:only-of-type {\n",
       "        vertical-align: middle;\n",
       "    }\n",
       "\n",
       "    .dataframe tbody tr th {\n",
       "        vertical-align: top;\n",
       "    }\n",
       "\n",
       "    .dataframe thead tr th {\n",
       "        text-align: left;\n",
       "    }\n",
       "\n",
       "    .dataframe thead tr:last-of-type th {\n",
       "        text-align: right;\n",
       "    }\n",
       "</style>\n",
       "<table border=\"1\" class=\"dataframe\">\n",
       "  <thead>\n",
       "    <tr>\n",
       "      <th></th>\n",
       "      <th>mean_pooing</th>\n",
       "      <th>max_pooing</th>\n",
       "      <th>tfidf_pooing</th>\n",
       "      <th>sif_embedding</th>\n",
       "    </tr>\n",
       "    <tr>\n",
       "      <th></th>\n",
       "      <th>mean</th>\n",
       "      <th>mean</th>\n",
       "      <th>mean</th>\n",
       "      <th>mean</th>\n",
       "    </tr>\n",
       "    <tr>\n",
       "      <th>label</th>\n",
       "      <th></th>\n",
       "      <th></th>\n",
       "      <th></th>\n",
       "      <th></th>\n",
       "    </tr>\n",
       "  </thead>\n",
       "  <tbody>\n",
       "    <tr>\n",
       "      <th>0</th>\n",
       "      <td>0.818722</td>\n",
       "      <td>0.909529</td>\n",
       "      <td>0.718189</td>\n",
       "      <td>0.603005</td>\n",
       "    </tr>\n",
       "    <tr>\n",
       "      <th>1</th>\n",
       "      <td>0.851903</td>\n",
       "      <td>0.919885</td>\n",
       "      <td>0.780175</td>\n",
       "      <td>0.692493</td>\n",
       "    </tr>\n",
       "  </tbody>\n",
       "</table>\n",
       "</div>"
      ],
      "text/plain": [
       "      mean_pooing max_pooing tfidf_pooing sif_embedding\n",
       "             mean       mean         mean          mean\n",
       "label                                                  \n",
       "0        0.818722   0.909529     0.718189      0.603005\n",
       "1        0.851903   0.919885     0.780175      0.692493"
      ]
     },
     "execution_count": 29,
     "metadata": {},
     "output_type": "execute_result"
    }
   ],
   "source": [
    "train_data.groupby('label').agg({\n",
    "    'mean_pooing': ['mean'],\n",
    "    'max_pooing': ['mean'],\n",
    "    'tfidf_pooing': ['mean'],\n",
    "    'sif_embedding': ['mean']\n",
    "})"
   ]
  },
  {
   "cell_type": "code",
   "execution_count": 74,
   "metadata": {},
   "outputs": [],
   "source": [
    "svd = TruncatedSVD(n_components=3, n_iter=10, random_state=0)\n",
    "svd.fit(train_sentence1_tfidffeat)\n",
    "\n",
    "train_sentence1_usiffeat = train_sentence1_tfidffeat.copy()\n",
    "train_sentence2_usiffeat = train_sentence2_tfidffeat.copy()\n",
    "\n",
    "proj = lambda a, b: a.dot(b.transpose()) * b\n",
    "for i in range(3):\n",
    "    lambda_i = (svd.singular_values_[i] ** 2) / (svd.singular_values_ ** 2).sum()\n",
    "    pc = svd.components_[i]\n",
    "    train_sentence1_usiffeat = [ v_s - lambda_i * proj(v_s, pc) for v_s in train_sentence1_usiffeat]\n",
    "    train_sentence2_usiffeat = [ v_s - lambda_i * proj(v_s, pc) for v_s in train_sentence2_usiffeat]"
   ]
  },
  {
   "cell_type": "code",
   "execution_count": 75,
   "metadata": {},
   "outputs": [],
   "source": [
    "train_sentence1_usiffeat = np.vstack(train_sentence1_usiffeat)\n",
    "train_sentence2_usiffeat = np.vstack(train_sentence2_usiffeat)\n",
    "\n",
    "train_sentence1_tfidffeat = normalize(train_sentence1_usiffeat)\n",
    "train_sentence2_tfidffeat = normalize(train_sentence2_usiffeat)\n",
    "\n",
    "usif_embedding_distance = [np.dot(x, y) for x, y in \n",
    "                        zip(train_sentence1_usiffeat, train_sentence2_usiffeat)]\n",
    "train_data['usif_embedding'] = usif_embedding_distance"
   ]
  },
  {
   "cell_type": "code",
   "execution_count": 76,
   "metadata": {},
   "outputs": [
    {
     "data": {
      "text/plain": [
       "<AxesSubplot:xlabel='label'>"
      ]
     },
     "execution_count": 76,
     "metadata": {},
     "output_type": "execute_result"
    },
    {
     "data": {
      "image/png": "[encoded data removed]",
      "text/plain": [
       "<Figure size 432x288 with 1 Axes>"
      ]
     },
     "metadata": {
      "needs_background": "light"
     },
     "output_type": "display_data"
    }
   ],
   "source": [
    "train_data.groupby('label')['usif_embedding'].mean().plot(kind='bar')"
   ]
  },
  {
   "cell_type": "code",
   "execution_count": 77,
   "metadata": {},
   "outputs": [
    {
     "data": {
      "text/html": [
       "<div>\n",
       "<style scoped>\n",
       "    .dataframe tbody tr th:only-of-type {\n",
       "        vertical-align: middle;\n",
       "    }\n",
       "\n",
       "    .dataframe tbody tr th {\n",
       "        vertical-align: top;\n",
       "    }\n",
       "\n",
       "    .dataframe thead tr th {\n",
       "        text-align: left;\n",
       "    }\n",
       "\n",
       "    .dataframe thead tr:last-of-type th {\n",
       "        text-align: right;\n",
       "    }\n",
       "</style>\n",
       "<table border=\"1\" class=\"dataframe\">\n",
       "  <thead>\n",
       "    <tr>\n",
       "      <th></th>\n",
       "      <th>mean_pooing</th>\n",
       "      <th>max_pooing</th>\n",
       "      <th>tfidf_pooing</th>\n",
       "      <th>sif_embedding</th>\n",
       "      <th>usif_embedding</th>\n",
       "    </tr>\n",
       "    <tr>\n",
       "      <th></th>\n",
       "      <th>mean</th>\n",
       "      <th>mean</th>\n",
       "      <th>mean</th>\n",
       "      <th>mean</th>\n",
       "      <th>mean</th>\n",
       "    </tr>\n",
       "    <tr>\n",
       "      <th>label</th>\n",
       "      <th></th>\n",
       "      <th></th>\n",
       "      <th></th>\n",
       "      <th></th>\n",
       "      <th></th>\n",
       "    </tr>\n",
       "  </thead>\n",
       "  <tbody>\n",
       "    <tr>\n",
       "      <th>0</th>\n",
       "      <td>0.818722</td>\n",
       "      <td>0.909529</td>\n",
       "      <td>0.718189</td>\n",
       "      <td>0.603005</td>\n",
       "      <td>0.507293</td>\n",
       "    </tr>\n",
       "    <tr>\n",
       "      <th>1</th>\n",
       "      <td>0.851903</td>\n",
       "      <td>0.919885</td>\n",
       "      <td>0.780175</td>\n",
       "      <td>0.692493</td>\n",
       "      <td>0.584793</td>\n",
       "    </tr>\n",
       "  </tbody>\n",
       "</table>\n",
       "</div>"
      ],
      "text/plain": [
       "      mean_pooing max_pooing tfidf_pooing sif_embedding usif_embedding\n",
       "             mean       mean         mean          mean           mean\n",
       "label                                                                 \n",
       "0        0.818722   0.909529     0.718189      0.603005       0.507293\n",
       "1        0.851903   0.919885     0.780175      0.692493       0.584793"
      ]
     },
     "execution_count": 77,
     "metadata": {},
     "output_type": "execute_result"
    }
   ],
   "source": [
    "train_data.groupby('label').agg({\n",
    "    'mean_pooing': ['mean'],\n",
    "    'max_pooing': ['mean'],\n",
    "    'tfidf_pooing': ['mean'],\n",
    "    'sif_embedding': ['mean'],\n",
    "    'usif_embedding': ['mean']\n",
    "})"
   ]
  },
  {
   "cell_type": "code",
   "execution_count": 83,
   "metadata": {},
   "outputs": [
    {
     "data": {
      "text/plain": [
       "(11, 100)"
      ]
     },
     "execution_count": 83,
     "metadata": {},
     "output_type": "execute_result"
    }
   ],
   "source": [
    "train_sentence1_feat[0].shape"
   ]
  },
  {
   "cell_type": "code",
   "execution_count": 103,
   "metadata": {},
   "outputs": [],
   "source": [
    "def gen_mean(vals, p):\n",
    "    p = float(p)\n",
    "    return np.power(\n",
    "        np.mean(\n",
    "            np.power(\n",
    "                np.array(vals, dtype=complex),\n",
    "                p),\n",
    "            axis=0),\n",
    "        1 / p\n",
    "    )\n",
    "\n",
    "def get_sentence_embedding(word_embeddings):\n",
    "    concat_embs = []\n",
    "    if len(word_embeddings) == 0:\n",
    "        return np.zeros(500)\n",
    "    concat_embs += [np.mean(word_embeddings, axis=0)]\n",
    "    concat_embs += [np.max(word_embeddings, axis=0)]\n",
    "    concat_embs += [np.min(word_embeddings, axis=0)]\n",
    "    concat_embs += [gen_mean(word_embeddings, p=2.0).real]\n",
    "    concat_embs += [gen_mean(word_embeddings, p=3.0).real]\n",
    "    sentence_embedding = np.concatenate(\n",
    "                concat_embs,\n",
    "                axis=0\n",
    "            )\n",
    "    return sentence_embedding\n",
    "\n",
    "train_sentence1_pmeansfeat = [get_sentence_embedding(feat) for feat in train_sentence1_feat]\n",
    "train_sentence2_pmeansfeat = [get_sentence_embedding(feat) for feat in train_sentence2_feat]\n",
    "\n",
    "train_sentence1_pmeansfeat = np.vstack(train_sentence1_pmeansfeat)\n",
    "train_sentence2_pmeansfeat = np.vstack(train_sentence2_pmeansfeat)\n",
    "\n",
    "train_sentence1_pmeansfeat = normalize(train_sentence1_pmeansfeat)\n",
    "train_sentence2_pmeansfeat = normalize(train_sentence2_pmeansfeat)\n",
    "\n",
    "pmeans_embedding_distance = [np.dot(x, y) for x, y in \n",
    "                        zip(train_sentence1_pmeansfeat, train_sentence2_pmeansfeat)]\n",
    "train_data['pmeans_embedding'] = pmeans_embedding_distance"
   ]
  },
  {
   "cell_type": "code",
   "execution_count": 104,
   "metadata": {},
   "outputs": [
    {
     "data": {
      "text/html": [
       "<div>\n",
       "<style scoped>\n",
       "    .dataframe tbody tr th:only-of-type {\n",
       "        vertical-align: middle;\n",
       "    }\n",
       "\n",
       "    .dataframe tbody tr th {\n",
       "        vertical-align: top;\n",
       "    }\n",
       "\n",
       "    .dataframe thead tr th {\n",
       "        text-align: left;\n",
       "    }\n",
       "\n",
       "    .dataframe thead tr:last-of-type th {\n",
       "        text-align: right;\n",
       "    }\n",
       "</style>\n",
       "<table border=\"1\" class=\"dataframe\">\n",
       "  <thead>\n",
       "    <tr>\n",
       "      <th></th>\n",
       "      <th>mean_pooing</th>\n",
       "      <th>max_pooing</th>\n",
       "      <th>tfidf_pooing</th>\n",
       "      <th>sif_embedding</th>\n",
       "      <th>usif_embedding</th>\n",
       "      <th>pmeans_embedding</th>\n",
       "    </tr>\n",
       "    <tr>\n",
       "      <th></th>\n",
       "      <th>mean</th>\n",
       "      <th>mean</th>\n",
       "      <th>mean</th>\n",
       "      <th>mean</th>\n",
       "      <th>mean</th>\n",
       "      <th>mean</th>\n",
       "    </tr>\n",
       "    <tr>\n",
       "      <th>label</th>\n",
       "      <th></th>\n",
       "      <th></th>\n",
       "      <th></th>\n",
       "      <th></th>\n",
       "      <th></th>\n",
       "      <th></th>\n",
       "    </tr>\n",
       "  </thead>\n",
       "  <tbody>\n",
       "    <tr>\n",
       "      <th>0</th>\n",
       "      <td>0.818722</td>\n",
       "      <td>0.909529</td>\n",
       "      <td>0.718189</td>\n",
       "      <td>0.603005</td>\n",
       "      <td>0.507293</td>\n",
       "      <td>0.910251</td>\n",
       "    </tr>\n",
       "    <tr>\n",
       "      <th>1</th>\n",
       "      <td>0.851903</td>\n",
       "      <td>0.919885</td>\n",
       "      <td>0.780175</td>\n",
       "      <td>0.692493</td>\n",
       "      <td>0.584793</td>\n",
       "      <td>0.921331</td>\n",
       "    </tr>\n",
       "  </tbody>\n",
       "</table>\n",
       "</div>"
      ],
      "text/plain": [
       "      mean_pooing max_pooing tfidf_pooing sif_embedding usif_embedding  \\\n",
       "             mean       mean         mean          mean           mean   \n",
       "label                                                                    \n",
       "0        0.818722   0.909529     0.718189      0.603005       0.507293   \n",
       "1        0.851903   0.919885     0.780175      0.692493       0.584793   \n",
       "\n",
       "      pmeans_embedding  \n",
       "                  mean  \n",
       "label                   \n",
       "0             0.910251  \n",
       "1             0.921331  "
      ]
     },
     "execution_count": 104,
     "metadata": {},
     "output_type": "execute_result"
    }
   ],
   "source": [
    "train_data.groupby('label').agg({\n",
    "    'mean_pooing': ['mean'],\n",
    "    'max_pooing': ['mean'],\n",
    "    'tfidf_pooing': ['mean'],\n",
    "    'sif_embedding': ['mean'],\n",
    "    'usif_embedding': ['mean'],\n",
    "    'pmeans_embedding': ['mean']\n",
    "})"
   ]
  },
  {
   "cell_type": "markdown",
   "metadata": {},
   "source": [
    "## doc2vec"
   ]
  },
  {
   "cell_type": "code",
   "execution_count": 174,
   "metadata": {},
   "outputs": [],
   "source": [
    "from gensim.models.doc2vec import Doc2Vec, TaggedDocument"
   ]
  },
  {
   "cell_type": "code",
   "execution_count": 193,
   "metadata": {},
   "outputs": [],
   "source": [
    "documents = [TaggedDocument(doc, [i]) for i, doc in enumerate(train_sentence1+train_sentence2)]\n",
    "model = Doc2Vec(documents, vector_size=100, window=5, min_count=1, workers=-1)"
   ]
  },
  {
   "cell_type": "code",
   "execution_count": 194,
   "metadata": {},
   "outputs": [],
   "source": [
    "train_sentence1_doc2feat = [model.infer_vector(x) for x in train_sentence1]\n",
    "train_sentence2_doc2feat = [model.infer_vector(x) for x in train_sentence2]"
   ]
  },
  {
   "cell_type": "code",
   "execution_count": 195,
   "metadata": {},
   "outputs": [],
   "source": [
    "train_sentence1_doc2feat = np.vstack(train_sentence1_doc2feat)\n",
    "train_sentence2_doc2feat = np.vstack(train_sentence2_doc2feat)\n",
    "\n",
    "train_sentence1_doc2feat = normalize(train_sentence1_doc2feat)\n",
    "train_sentence2_doc2feat = normalize(train_sentence2_doc2feat)\n",
    "\n",
    "doc2vec_distance = [np.dot(x, y) for x, y in \n",
    "                        zip(train_sentence1_doc2feat, train_sentence2_doc2feat)]\n",
    "train_data['doc2vec'] = doc2vec_distance"
   ]
  },
  {
   "cell_type": "code",
   "execution_count": 200,
   "metadata": {},
   "outputs": [
    {
     "data": {
      "text/html": [
       "<div>\n",
       "<style scoped>\n",
       "    .dataframe tbody tr th:only-of-type {\n",
       "        vertical-align: middle;\n",
       "    }\n",
       "\n",
       "    .dataframe tbody tr th {\n",
       "        vertical-align: top;\n",
       "    }\n",
       "\n",
       "    .dataframe thead tr th {\n",
       "        text-align: left;\n",
       "    }\n",
       "\n",
       "    .dataframe thead tr:last-of-type th {\n",
       "        text-align: right;\n",
       "    }\n",
       "</style>\n",
       "<table border=\"1\" class=\"dataframe\">\n",
       "  <thead>\n",
       "    <tr>\n",
       "      <th></th>\n",
       "      <th>mean_pooing</th>\n",
       "      <th>max_pooing</th>\n",
       "      <th>tfidf_pooing</th>\n",
       "      <th>sif_embedding</th>\n",
       "      <th>doc2vec</th>\n",
       "    </tr>\n",
       "    <tr>\n",
       "      <th></th>\n",
       "      <th>mean</th>\n",
       "      <th>mean</th>\n",
       "      <th>mean</th>\n",
       "      <th>mean</th>\n",
       "      <th>mean</th>\n",
       "    </tr>\n",
       "    <tr>\n",
       "      <th>label</th>\n",
       "      <th></th>\n",
       "      <th></th>\n",
       "      <th></th>\n",
       "      <th></th>\n",
       "      <th></th>\n",
       "    </tr>\n",
       "  </thead>\n",
       "  <tbody>\n",
       "    <tr>\n",
       "      <th>0</th>\n",
       "      <td>0.824265</td>\n",
       "      <td>0.910736</td>\n",
       "      <td>0.720056</td>\n",
       "      <td>0.604179</td>\n",
       "      <td>1.087763e-07</td>\n",
       "    </tr>\n",
       "    <tr>\n",
       "      <th>1</th>\n",
       "      <td>0.856910</td>\n",
       "      <td>0.921142</td>\n",
       "      <td>0.781910</td>\n",
       "      <td>0.693707</td>\n",
       "      <td>-1.096150e-04</td>\n",
       "    </tr>\n",
       "  </tbody>\n",
       "</table>\n",
       "</div>"
      ],
      "text/plain": [
       "      mean_pooing max_pooing tfidf_pooing sif_embedding       doc2vec\n",
       "             mean       mean         mean          mean          mean\n",
       "label                                                                \n",
       "0        0.824265   0.910736     0.720056      0.604179  1.087763e-07\n",
       "1        0.856910   0.921142     0.781910      0.693707 -1.096150e-04"
      ]
     },
     "execution_count": 200,
     "metadata": {},
     "output_type": "execute_result"
    }
   ],
   "source": [
    "train_data.groupby('label').agg({\n",
    "    'mean_pooing': ['mean'],\n",
    "    'max_pooing': ['mean'],\n",
    "    'tfidf_pooing': ['mean'],\n",
    "    'sif_embedding': ['mean'],\n",
    "    'doc2vec': ['mean']\n",
    "})"
   ]
  },
  {
   "cell_type": "markdown",
   "metadata": {},
   "source": [
    "# 序列模型"
   ]
  },
  {
   "cell_type": "code",
   "execution_count": 201,
   "metadata": {},
   "outputs": [],
   "source": [
    "import torch\n",
    "from torch import nn"
   ]
  },
  {
   "cell_type": "markdown",
   "metadata": {},
   "source": [
    "## RNN\n",
    "\n",
    "https://pytorch.org/docs/stable/generated/torch.nn.RNN.html#torch.nn.RNN"
   ]
  },
  {
   "cell_type": "code",
   "execution_count": 205,
   "metadata": {},
   "outputs": [],
   "source": [
    "# input_size, hidden_size, num_layers\n",
    "model = nn.RNN(10, 20, 2)\n",
    "\n",
    "# sequence length, batch size, input_size\n",
    "input = torch.randn(10, 1, 10)\n",
    "\n",
    "output, hn = model(input)"
   ]
  },
  {
   "cell_type": "code",
   "execution_count": 206,
   "metadata": {},
   "outputs": [
    {
     "data": {
      "text/plain": [
       "(torch.Size([10, 1, 20]), torch.Size([2, 1, 20]))"
      ]
     },
     "execution_count": 206,
     "metadata": {},
     "output_type": "execute_result"
    }
   ],
   "source": [
    "output.shape, hn.shape"
   ]
  },
  {
   "cell_type": "markdown",
   "metadata": {},
   "source": [
    "## LSTM\n",
    "\n",
    "https://pytorch.org/docs/stable/generated/torch.nn.LSTM.html#torch.nn.LSTM"
   ]
  },
  {
   "cell_type": "code",
   "execution_count": 166,
   "metadata": {},
   "outputs": [],
   "source": [
    "# input_size, hidden_size, num_layers\n",
    "model = nn.LSTM(10, 20, 2)\n",
    "input = torch.randn(5, 3, 10)\n",
    "\n",
    "output, (hn, cn) = model(input)"
   ]
  },
  {
   "cell_type": "code",
   "execution_count": 167,
   "metadata": {},
   "outputs": [
    {
     "data": {
      "text/plain": [
       "(torch.Size([5, 3, 20]), torch.Size([2, 3, 20]), torch.Size([2, 3, 20]))"
      ]
     },
     "execution_count": 167,
     "metadata": {},
     "output_type": "execute_result"
    }
   ],
   "source": [
    "output.shape, hn.shape, cn.shape"
   ]
  }
 ],
 "metadata": {
  "kernelspec": {
   "display_name": "Python 3.6 (ipykernel)",
   "language": "python",
   "name": "python3"
  },
  "language_info": {
   "codemirror_mode": {
    "name": "ipython",
    "version": 3
   },
   "file_extension": ".py",
   "mimetype": "text/x-python",
   "name": "python",
   "nbconvert_exporter": "python",
   "pygments_lexer": "ipython3",
   "version": "3.6.9"
  },
  "toc-autonumbering": false,
  "toc-showmarkdowntxt": false,
  "widgets": {
   "application/vnd.jupyter.widget-state+json": {
    "state": {},
    "version_major": 2,
    "version_minor": 0
   }
  }
 },
 "nbformat": 4,
 "nbformat_minor": 4
}
