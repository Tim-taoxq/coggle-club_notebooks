{
 "cells": [
  {
   "cell_type": "code",
   "execution_count": 28,
   "id": "65621e5f-9f7d-43d3-a2d8-7467fc801479",
   "metadata": {
    "execution": {
     "iopub.execute_input": "2023-01-09T09:10:13.367266Z",
     "iopub.status.busy": "2023-01-09T09:10:13.366864Z",
     "iopub.status.idle": "2023-01-09T09:10:13.371817Z",
     "shell.execute_reply": "2023-01-09T09:10:13.371107Z",
     "shell.execute_reply.started": "2023-01-09T09:10:13.367239Z"
    },
    "tags": []
   },
   "outputs": [],
   "source": [
    "import numpy as np\n",
    "import numexpr as ne\n",
    "\n",
    "num = 10\n",
    "a = np.random.rand(num, num)\n",
    "b = np.random.rand(num, num)"
   ]
  },
  {
   "cell_type": "code",
   "execution_count": 29,
   "id": "d5f75841-041b-47c1-b4ba-93df2be1c3ff",
   "metadata": {
    "execution": {
     "iopub.execute_input": "2023-01-09T09:10:14.369137Z",
     "iopub.status.busy": "2023-01-09T09:10:14.368793Z",
     "iopub.status.idle": "2023-01-09T09:10:21.058119Z",
     "shell.execute_reply": "2023-01-09T09:10:21.057676Z",
     "shell.execute_reply.started": "2023-01-09T09:10:14.369109Z"
    },
    "tags": []
   },
   "outputs": [
    {
     "name": "stdout",
     "output_type": "stream",
     "text": [
      "8.24 µs ± 16.5 ns per loop (mean ± std. dev. of 7 runs, 100,000 loops each)\n"
     ]
    }
   ],
   "source": [
    "timeit 2*a + b**10"
   ]
  },
  {
   "cell_type": "code",
   "execution_count": 30,
   "id": "c6f363d7-968c-4b61-9bc4-430f5bf96cda",
   "metadata": {
    "execution": {
     "iopub.execute_input": "2023-01-09T09:10:23.366809Z",
     "iopub.status.busy": "2023-01-09T09:10:23.366180Z",
     "iopub.status.idle": "2023-01-09T09:10:30.091188Z",
     "shell.execute_reply": "2023-01-09T09:10:30.090639Z",
     "shell.execute_reply.started": "2023-01-09T09:10:23.366754Z"
    },
    "tags": []
   },
   "outputs": [
    {
     "name": "stdout",
     "output_type": "stream",
     "text": [
      "8.22 µs ± 86.7 ns per loop (mean ± std. dev. of 7 runs, 100,000 loops each)\n"
     ]
    }
   ],
   "source": [
    "timeit ne.evaluate(\"2*a + b**10\")"
   ]
  },
  {
   "cell_type": "code",
   "execution_count": 25,
   "id": "f73a04a3-f2bc-47fc-b407-575d7b64132d",
   "metadata": {
    "execution": {
     "iopub.execute_input": "2023-01-09T09:09:47.736082Z",
     "iopub.status.busy": "2023-01-09T09:09:47.735692Z",
     "iopub.status.idle": "2023-01-09T09:09:47.751662Z",
     "shell.execute_reply": "2023-01-09T09:09:47.750983Z",
     "shell.execute_reply.started": "2023-01-09T09:09:47.736041Z"
    },
    "tags": []
   },
   "outputs": [
    {
     "name": "stdout",
     "output_type": "stream",
     "text": [
      "True\n",
      "True\n",
      "True\n",
      "True\n",
      "True\n",
      "True\n",
      "True\n"
     ]
    }
   ],
   "source": [
    "import time\n",
    "\n",
    "numpy_time = []\n",
    "numexpr_time = []\n",
    "for num in [10, 100, 1000, 10000, 20000, 50000, 100000]:\n",
    "    a = np.random.rand(num).astype(np.bool8)\n",
    "    b = np.random.rand(num).astype(np.bool8)\n",
    "    \n",
    "    start_time = time.time()\n",
    "    resa = a | b\n",
    "    numpy_time.append(time.time() - start_time)\n",
    "    \n",
    "    start_time = time.time()\n",
    "    resb = ne.evaluate(\"a | b\")\n",
    "    numexpr_time.append(time.time() - start_time)\n",
    "    \n",
    "    print(np.allclose(resa, resb))"
   ]
  },
  {
   "cell_type": "code",
   "execution_count": 26,
   "id": "23d06cca-80ad-43d9-ad06-8cea207cb421",
   "metadata": {
    "execution": {
     "iopub.execute_input": "2023-01-09T09:09:48.615397Z",
     "iopub.status.busy": "2023-01-09T09:09:48.614974Z",
     "iopub.status.idle": "2023-01-09T09:09:48.754281Z",
     "shell.execute_reply": "2023-01-09T09:09:48.753830Z",
     "shell.execute_reply.started": "2023-01-09T09:09:48.615348Z"
    },
    "tags": []
   },
   "outputs": [
    {
     "name": "stdout",
     "output_type": "stream",
     "text": [
      "%pylab is deprecated, use %matplotlib inline and import the required libraries.\n",
      "Populating the interactive namespace from numpy and matplotlib\n"
     ]
    },
    {
     "data": {
      "text/plain": [
       "Text(0, 0.5, 'Time')"
      ]
     },
     "execution_count": 26,
     "metadata": {},
     "output_type": "execute_result"
    },
    {
     "data": {
      "image/png": "[encoded data removed]",
      "text/plain": [
       "<Figure size 600x400 with 1 Axes>"
      ]
     },
     "metadata": {
      "needs_background": "light"
     },
     "output_type": "display_data"
    }
   ],
   "source": [
    "%pylab inline\n",
    "\n",
    "plt.figure(dpi=100)\n",
    "plt.plot([10, 100, 1000, 10000, 20000, 50000, 100000], numpy_time)\n",
    "plt.plot([10, 100, 1000, 10000, 20000, 50000, 100000], numexpr_time)\n",
    "plt.legend(['Numpy', 'NumExpr'])\n",
    "plt.xlabel('Array length')\n",
    "plt.ylabel('Time')"
   ]
  },
  {
   "cell_type": "code",
   "execution_count": 40,
   "id": "d2430d39-a72a-4853-a0c9-530d03d11c90",
   "metadata": {
    "execution": {
     "iopub.execute_input": "2023-01-09T08:45:37.584832Z",
     "iopub.status.busy": "2023-01-09T08:45:37.584407Z",
     "iopub.status.idle": "2023-01-09T08:45:37.593649Z",
     "shell.execute_reply": "2023-01-09T08:45:37.592959Z",
     "shell.execute_reply.started": "2023-01-09T08:45:37.584784Z"
    }
   },
   "outputs": [
    {
     "data": {
      "text/plain": [
       "True"
      ]
     },
     "execution_count": 40,
     "metadata": {},
     "output_type": "execute_result"
    }
   ],
   "source": []
  },
  {
   "cell_type": "code",
   "execution_count": null,
   "id": "9b49abb4-7816-4553-af4a-e88724a33f5c",
   "metadata": {},
   "outputs": [],
   "source": []
  }
 ],
 "metadata": {
  "kernelspec": {
   "display_name": "Python 3 (ipykernel)",
   "language": "python",
   "name": "python3.10"
  },
  "language_info": {
   "codemirror_mode": {
    "name": "ipython",
    "version": 3
   },
   "file_extension": ".py",
   "mimetype": "text/x-python",
   "name": "python",
   "nbconvert_exporter": "python",
   "pygments_lexer": "ipython3",
   "version": "3.9.10"
  },
  "widgets": {
   "application/vnd.jupyter.widget-state+json": {
    "state": {},
    "version_major": 2,
    "version_minor": 0
   }
  }
 },
 "nbformat": 4,
 "nbformat_minor": 5
}
