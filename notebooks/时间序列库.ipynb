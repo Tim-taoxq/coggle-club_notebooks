{
 "cells": [
  {
   "cell_type": "markdown",
   "metadata": {},
   "source": [
    "# Prophet\n",
    "\n",
    "https://github.com/facebook/prophet"
   ]
  },
  {
   "cell_type": "code",
   "execution_count": 1,
   "metadata": {
    "ExecuteTime": {
     "end_time": "2021-01-26T08:52:28.462776Z",
     "start_time": "2021-01-26T08:52:27.571035Z"
    }
   },
   "outputs": [],
   "source": [
    "# Python\n",
    "import pandas as pd\n",
    "from fbprophet import Prophet"
   ]
  },
  {
   "cell_type": "code",
   "execution_count": 2,
   "metadata": {
    "ExecuteTime": {
     "end_time": "2021-01-26T08:53:01.312255Z",
     "start_time": "2021-01-26T08:53:00.634423Z"
    }
   },
   "outputs": [
    {
     "data": {
      "text/html": [
       "<div>\n",
       "<style scoped>\n",
       "    .dataframe tbody tr th:only-of-type {\n",
       "        vertical-align: middle;\n",
       "    }\n",
       "\n",
       "    .dataframe tbody tr th {\n",
       "        vertical-align: top;\n",
       "    }\n",
       "\n",
       "    .dataframe thead th {\n",
       "        text-align: right;\n",
       "    }\n",
       "</style>\n",
       "<table border=\"1\" class=\"dataframe\">\n",
       "  <thead>\n",
       "    <tr style=\"text-align: right;\">\n",
       "      <th></th>\n",
       "      <th>ds</th>\n",
       "      <th>y</th>\n",
       "    </tr>\n",
       "  </thead>\n",
       "  <tbody>\n",
       "    <tr>\n",
       "      <th>0</th>\n",
       "      <td>2007-12-10</td>\n",
       "      <td>9.590761</td>\n",
       "    </tr>\n",
       "    <tr>\n",
       "      <th>1</th>\n",
       "      <td>2007-12-11</td>\n",
       "      <td>8.519590</td>\n",
       "    </tr>\n",
       "    <tr>\n",
       "      <th>2</th>\n",
       "      <td>2007-12-12</td>\n",
       "      <td>8.183677</td>\n",
       "    </tr>\n",
       "    <tr>\n",
       "      <th>3</th>\n",
       "      <td>2007-12-13</td>\n",
       "      <td>8.072467</td>\n",
       "    </tr>\n",
       "    <tr>\n",
       "      <th>4</th>\n",
       "      <td>2007-12-14</td>\n",
       "      <td>7.893572</td>\n",
       "    </tr>\n",
       "  </tbody>\n",
       "</table>\n",
       "</div>"
      ],
      "text/plain": [
       "           ds         y\n",
       "0  2007-12-10  9.590761\n",
       "1  2007-12-11  8.519590\n",
       "2  2007-12-12  8.183677\n",
       "3  2007-12-13  8.072467\n",
       "4  2007-12-14  7.893572"
      ]
     },
     "execution_count": 2,
     "metadata": {},
     "output_type": "execute_result"
    }
   ],
   "source": [
    "df = pd.read_csv('http://mirror.coggle.club/prophet/example_wp_log_peyton_manning.csv')\n",
    "df.head()"
   ]
  },
  {
   "cell_type": "code",
   "execution_count": 3,
   "metadata": {
    "ExecuteTime": {
     "end_time": "2021-01-26T08:53:14.856944Z",
     "start_time": "2021-01-26T08:53:12.320446Z"
    }
   },
   "outputs": [
    {
     "name": "stderr",
     "output_type": "stream",
     "text": [
      "INFO:fbprophet:Disabling daily seasonality. Run prophet with daily_seasonality=True to override this.\n"
     ]
    },
    {
     "data": {
      "text/plain": [
       "<fbprophet.forecaster.Prophet at 0x7f9cd3630898>"
      ]
     },
     "execution_count": 3,
     "metadata": {},
     "output_type": "execute_result"
    }
   ],
   "source": [
    "m = Prophet()\n",
    "m.fit(df)"
   ]
  },
  {
   "cell_type": "code",
   "execution_count": 4,
   "metadata": {
    "ExecuteTime": {
     "end_time": "2021-01-26T08:53:22.389213Z",
     "start_time": "2021-01-26T08:53:22.196856Z"
    }
   },
   "outputs": [
    {
     "data": {
      "text/html": [
       "<div>\n",
       "<style scoped>\n",
       "    .dataframe tbody tr th:only-of-type {\n",
       "        vertical-align: middle;\n",
       "    }\n",
       "\n",
       "    .dataframe tbody tr th {\n",
       "        vertical-align: top;\n",
       "    }\n",
       "\n",
       "    .dataframe thead th {\n",
       "        text-align: right;\n",
       "    }\n",
       "</style>\n",
       "<table border=\"1\" class=\"dataframe\">\n",
       "  <thead>\n",
       "    <tr style=\"text-align: right;\">\n",
       "      <th></th>\n",
       "      <th>ds</th>\n",
       "    </tr>\n",
       "  </thead>\n",
       "  <tbody>\n",
       "    <tr>\n",
       "      <th>3265</th>\n",
       "      <td>2017-01-15</td>\n",
       "    </tr>\n",
       "    <tr>\n",
       "      <th>3266</th>\n",
       "      <td>2017-01-16</td>\n",
       "    </tr>\n",
       "    <tr>\n",
       "      <th>3267</th>\n",
       "      <td>2017-01-17</td>\n",
       "    </tr>\n",
       "    <tr>\n",
       "      <th>3268</th>\n",
       "      <td>2017-01-18</td>\n",
       "    </tr>\n",
       "    <tr>\n",
       "      <th>3269</th>\n",
       "      <td>2017-01-19</td>\n",
       "    </tr>\n",
       "  </tbody>\n",
       "</table>\n",
       "</div>"
      ],
      "text/plain": [
       "             ds\n",
       "3265 2017-01-15\n",
       "3266 2017-01-16\n",
       "3267 2017-01-17\n",
       "3268 2017-01-18\n",
       "3269 2017-01-19"
      ]
     },
     "execution_count": 4,
     "metadata": {},
     "output_type": "execute_result"
    }
   ],
   "source": [
    "future = m.make_future_dataframe(periods=365)\n",
    "future.tail()"
   ]
  },
  {
   "cell_type": "code",
   "execution_count": 5,
   "metadata": {
    "ExecuteTime": {
     "end_time": "2021-01-26T08:53:36.317855Z",
     "start_time": "2021-01-26T08:53:32.883987Z"
    }
   },
   "outputs": [
    {
     "data": {
      "text/html": [
       "<div>\n",
       "<style scoped>\n",
       "    .dataframe tbody tr th:only-of-type {\n",
       "        vertical-align: middle;\n",
       "    }\n",
       "\n",
       "    .dataframe tbody tr th {\n",
       "        vertical-align: top;\n",
       "    }\n",
       "\n",
       "    .dataframe thead th {\n",
       "        text-align: right;\n",
       "    }\n",
       "</style>\n",
       "<table border=\"1\" class=\"dataframe\">\n",
       "  <thead>\n",
       "    <tr style=\"text-align: right;\">\n",
       "      <th></th>\n",
       "      <th>ds</th>\n",
       "      <th>yhat</th>\n",
       "      <th>yhat_lower</th>\n",
       "      <th>yhat_upper</th>\n",
       "    </tr>\n",
       "  </thead>\n",
       "  <tbody>\n",
       "    <tr>\n",
       "      <th>3265</th>\n",
       "      <td>2017-01-15</td>\n",
       "      <td>8.200924</td>\n",
       "      <td>7.488568</td>\n",
       "      <td>8.934262</td>\n",
       "    </tr>\n",
       "    <tr>\n",
       "      <th>3266</th>\n",
       "      <td>2017-01-16</td>\n",
       "      <td>8.525932</td>\n",
       "      <td>7.809271</td>\n",
       "      <td>9.245340</td>\n",
       "    </tr>\n",
       "    <tr>\n",
       "      <th>3267</th>\n",
       "      <td>2017-01-17</td>\n",
       "      <td>8.313330</td>\n",
       "      <td>7.627418</td>\n",
       "      <td>9.012617</td>\n",
       "    </tr>\n",
       "    <tr>\n",
       "      <th>3268</th>\n",
       "      <td>2017-01-18</td>\n",
       "      <td>8.145923</td>\n",
       "      <td>7.466100</td>\n",
       "      <td>8.895998</td>\n",
       "    </tr>\n",
       "    <tr>\n",
       "      <th>3269</th>\n",
       "      <td>2017-01-19</td>\n",
       "      <td>8.157831</td>\n",
       "      <td>7.465402</td>\n",
       "      <td>8.833143</td>\n",
       "    </tr>\n",
       "  </tbody>\n",
       "</table>\n",
       "</div>"
      ],
      "text/plain": [
       "             ds      yhat  yhat_lower  yhat_upper\n",
       "3265 2017-01-15  8.200924    7.488568    8.934262\n",
       "3266 2017-01-16  8.525932    7.809271    9.245340\n",
       "3267 2017-01-17  8.313330    7.627418    9.012617\n",
       "3268 2017-01-18  8.145923    7.466100    8.895998\n",
       "3269 2017-01-19  8.157831    7.465402    8.833143"
      ]
     },
     "execution_count": 5,
     "metadata": {},
     "output_type": "execute_result"
    }
   ],
   "source": [
    "forecast = m.predict(future)\n",
    "forecast[['ds', 'yhat', 'yhat_lower', 'yhat_upper']].tail()"
   ]
  },
  {
   "cell_type": "code",
   "execution_count": 6,
   "metadata": {
    "ExecuteTime": {
     "end_time": "2021-01-26T08:54:16.292424Z",
     "start_time": "2021-01-26T08:54:15.955824Z"
    }
   },
   "outputs": [
    {
     "name": "stdout",
     "output_type": "stream",
     "text": [
      "Populating the interactive namespace from numpy and matplotlib\n"
     ]
    },
    {
     "data": {
      "image/png": "[encoded data removed]",
      "text/plain": [
       "<Figure size 720x432 with 1 Axes>"
      ]
     },
     "metadata": {},
     "output_type": "display_data"
    }
   ],
   "source": [
    "%pylab inline\n",
    "fig1 = m.plot(forecast)"
   ]
  },
  {
   "cell_type": "code",
   "execution_count": 13,
   "metadata": {
    "ExecuteTime": {
     "end_time": "2021-01-26T09:28:21.370347Z",
     "start_time": "2021-01-26T09:28:20.858414Z"
    }
   },
   "outputs": [
    {
     "name": "stdout",
     "output_type": "stream",
     "text": [
      "Will not apply HSTS. The HSTS database must be a regular and non-world-writable file.\n",
      "ERROR: could not open HSTS store at '/home/lyz/.wget-hsts'. HSTS will be disabled.\n",
      "--2021-01-26 17:28:20--  http://mirror.coggle.club/lp1.data.txt\n",
      "正在解析主机 mirror.coggle.club (mirror.coggle.club)... 139.215.131.222\n",
      "正在连接 mirror.coggle.club (mirror.coggle.club)|139.215.131.222|:80... 已连接。\n",
      "已发出 HTTP 请求，正在等待回应... 200 OK\n",
      "长度： 27345 (27K) [text/plain]\n",
      "正在保存至: “lp1.data.txt”\n",
      "\n",
      "lp1.data.txt        100%[===================>]  26.70K  --.-KB/s    用时 0.04s   \n",
      "\n",
      "2021-01-26 17:28:21 (661 KB/s) - 已保存 “lp1.data.txt” [27345/27345])\n",
      "\n"
     ]
    }
   ],
   "source": [
    "!wget http://mirror.coggle.club/lp1.data.txt"
   ]
  },
  {
   "cell_type": "markdown",
   "metadata": {},
   "source": [
    "# tsfresh\n",
    "https://tsfresh.readthedocs.io/en/latest/index.html\n"
   ]
  },
  {
   "cell_type": "code",
   "execution_count": 15,
   "metadata": {
    "ExecuteTime": {
     "end_time": "2021-01-26T09:28:37.148472Z",
     "start_time": "2021-01-26T09:28:37.132473Z"
    }
   },
   "outputs": [],
   "source": [
    "from tsfresh.examples.robot_execution_failures import download_robot_execution_failures, \\\n",
    "    load_robot_execution_failures\n",
    "timeseries, y = load_robot_execution_failures(file_name=\"./lp1.data.txt\")"
   ]
  },
  {
   "cell_type": "code",
   "execution_count": 63,
   "metadata": {
    "ExecuteTime": {
     "end_time": "2021-01-26T12:30:35.966084Z",
     "start_time": "2021-01-26T12:30:35.956554Z"
    }
   },
   "outputs": [
    {
     "data": {
      "text/html": [
       "<div>\n",
       "<style scoped>\n",
       "    .dataframe tbody tr th:only-of-type {\n",
       "        vertical-align: middle;\n",
       "    }\n",
       "\n",
       "    .dataframe tbody tr th {\n",
       "        vertical-align: top;\n",
       "    }\n",
       "\n",
       "    .dataframe thead th {\n",
       "        text-align: right;\n",
       "    }\n",
       "</style>\n",
       "<table border=\"1\" class=\"dataframe\">\n",
       "  <thead>\n",
       "    <tr style=\"text-align: right;\">\n",
       "      <th></th>\n",
       "      <th>id</th>\n",
       "      <th>time</th>\n",
       "      <th>F_x</th>\n",
       "      <th>F_y</th>\n",
       "      <th>F_z</th>\n",
       "      <th>T_x</th>\n",
       "      <th>T_y</th>\n",
       "      <th>T_z</th>\n",
       "    </tr>\n",
       "  </thead>\n",
       "  <tbody>\n",
       "    <tr>\n",
       "      <th>0</th>\n",
       "      <td>1</td>\n",
       "      <td>0</td>\n",
       "      <td>-1</td>\n",
       "      <td>-1</td>\n",
       "      <td>63</td>\n",
       "      <td>-3</td>\n",
       "      <td>-1</td>\n",
       "      <td>0</td>\n",
       "    </tr>\n",
       "    <tr>\n",
       "      <th>1</th>\n",
       "      <td>1</td>\n",
       "      <td>1</td>\n",
       "      <td>0</td>\n",
       "      <td>0</td>\n",
       "      <td>62</td>\n",
       "      <td>-3</td>\n",
       "      <td>-1</td>\n",
       "      <td>0</td>\n",
       "    </tr>\n",
       "    <tr>\n",
       "      <th>2</th>\n",
       "      <td>1</td>\n",
       "      <td>2</td>\n",
       "      <td>-1</td>\n",
       "      <td>-1</td>\n",
       "      <td>61</td>\n",
       "      <td>-3</td>\n",
       "      <td>0</td>\n",
       "      <td>0</td>\n",
       "    </tr>\n",
       "    <tr>\n",
       "      <th>3</th>\n",
       "      <td>1</td>\n",
       "      <td>3</td>\n",
       "      <td>-1</td>\n",
       "      <td>-1</td>\n",
       "      <td>63</td>\n",
       "      <td>-2</td>\n",
       "      <td>-1</td>\n",
       "      <td>0</td>\n",
       "    </tr>\n",
       "    <tr>\n",
       "      <th>4</th>\n",
       "      <td>1</td>\n",
       "      <td>4</td>\n",
       "      <td>-1</td>\n",
       "      <td>-1</td>\n",
       "      <td>63</td>\n",
       "      <td>-3</td>\n",
       "      <td>-1</td>\n",
       "      <td>0</td>\n",
       "    </tr>\n",
       "    <tr>\n",
       "      <th>5</th>\n",
       "      <td>1</td>\n",
       "      <td>5</td>\n",
       "      <td>-1</td>\n",
       "      <td>-1</td>\n",
       "      <td>63</td>\n",
       "      <td>-3</td>\n",
       "      <td>-1</td>\n",
       "      <td>0</td>\n",
       "    </tr>\n",
       "    <tr>\n",
       "      <th>6</th>\n",
       "      <td>1</td>\n",
       "      <td>6</td>\n",
       "      <td>-1</td>\n",
       "      <td>-1</td>\n",
       "      <td>63</td>\n",
       "      <td>-3</td>\n",
       "      <td>0</td>\n",
       "      <td>0</td>\n",
       "    </tr>\n",
       "    <tr>\n",
       "      <th>7</th>\n",
       "      <td>1</td>\n",
       "      <td>7</td>\n",
       "      <td>-1</td>\n",
       "      <td>-1</td>\n",
       "      <td>63</td>\n",
       "      <td>-3</td>\n",
       "      <td>-1</td>\n",
       "      <td>0</td>\n",
       "    </tr>\n",
       "    <tr>\n",
       "      <th>8</th>\n",
       "      <td>1</td>\n",
       "      <td>8</td>\n",
       "      <td>-1</td>\n",
       "      <td>-1</td>\n",
       "      <td>63</td>\n",
       "      <td>-3</td>\n",
       "      <td>-1</td>\n",
       "      <td>0</td>\n",
       "    </tr>\n",
       "    <tr>\n",
       "      <th>9</th>\n",
       "      <td>1</td>\n",
       "      <td>9</td>\n",
       "      <td>-1</td>\n",
       "      <td>-1</td>\n",
       "      <td>61</td>\n",
       "      <td>-3</td>\n",
       "      <td>0</td>\n",
       "      <td>0</td>\n",
       "    </tr>\n",
       "    <tr>\n",
       "      <th>10</th>\n",
       "      <td>1</td>\n",
       "      <td>10</td>\n",
       "      <td>-1</td>\n",
       "      <td>-1</td>\n",
       "      <td>61</td>\n",
       "      <td>-3</td>\n",
       "      <td>0</td>\n",
       "      <td>0</td>\n",
       "    </tr>\n",
       "    <tr>\n",
       "      <th>11</th>\n",
       "      <td>1</td>\n",
       "      <td>11</td>\n",
       "      <td>-1</td>\n",
       "      <td>-1</td>\n",
       "      <td>64</td>\n",
       "      <td>-3</td>\n",
       "      <td>-1</td>\n",
       "      <td>0</td>\n",
       "    </tr>\n",
       "    <tr>\n",
       "      <th>12</th>\n",
       "      <td>1</td>\n",
       "      <td>12</td>\n",
       "      <td>-1</td>\n",
       "      <td>-1</td>\n",
       "      <td>64</td>\n",
       "      <td>-3</td>\n",
       "      <td>-1</td>\n",
       "      <td>0</td>\n",
       "    </tr>\n",
       "    <tr>\n",
       "      <th>13</th>\n",
       "      <td>1</td>\n",
       "      <td>13</td>\n",
       "      <td>-1</td>\n",
       "      <td>-1</td>\n",
       "      <td>60</td>\n",
       "      <td>-3</td>\n",
       "      <td>0</td>\n",
       "      <td>0</td>\n",
       "    </tr>\n",
       "    <tr>\n",
       "      <th>14</th>\n",
       "      <td>1</td>\n",
       "      <td>14</td>\n",
       "      <td>-1</td>\n",
       "      <td>0</td>\n",
       "      <td>64</td>\n",
       "      <td>-2</td>\n",
       "      <td>-1</td>\n",
       "      <td>0</td>\n",
       "    </tr>\n",
       "  </tbody>\n",
       "</table>\n",
       "</div>"
      ],
      "text/plain": [
       "    id  time  F_x  F_y  F_z  T_x  T_y  T_z\n",
       "0    1     0   -1   -1   63   -3   -1    0\n",
       "1    1     1    0    0   62   -3   -1    0\n",
       "2    1     2   -1   -1   61   -3    0    0\n",
       "3    1     3   -1   -1   63   -2   -1    0\n",
       "4    1     4   -1   -1   63   -3   -1    0\n",
       "5    1     5   -1   -1   63   -3   -1    0\n",
       "6    1     6   -1   -1   63   -3    0    0\n",
       "7    1     7   -1   -1   63   -3   -1    0\n",
       "8    1     8   -1   -1   63   -3   -1    0\n",
       "9    1     9   -1   -1   61   -3    0    0\n",
       "10   1    10   -1   -1   61   -3    0    0\n",
       "11   1    11   -1   -1   64   -3   -1    0\n",
       "12   1    12   -1   -1   64   -3   -1    0\n",
       "13   1    13   -1   -1   60   -3    0    0\n",
       "14   1    14   -1    0   64   -2   -1    0"
      ]
     },
     "execution_count": 63,
     "metadata": {},
     "output_type": "execute_result"
    }
   ],
   "source": [
    "timeseries[timeseries['id'] == 1]"
   ]
  },
  {
   "cell_type": "code",
   "execution_count": 17,
   "metadata": {
    "ExecuteTime": {
     "end_time": "2021-01-26T09:29:13.850152Z",
     "start_time": "2021-01-26T09:29:13.039084Z"
    }
   },
   "outputs": [
    {
     "data": {
      "image/png": "[encoded data removed]",
      "text/plain": [
       "<Figure size 720x720 with 8 Axes>"
      ]
     },
     "metadata": {
      "needs_background": "light"
     },
     "output_type": "display_data"
    }
   ],
   "source": [
    "timeseries[timeseries['id'] == 3].plot(subplots=True, sharex=True, figsize=(10,10))\n",
    "plt.show()"
   ]
  },
  {
   "cell_type": "code",
   "execution_count": 19,
   "metadata": {
    "ExecuteTime": {
     "end_time": "2021-01-26T09:29:41.057861Z",
     "start_time": "2021-01-26T09:29:37.118228Z"
    }
   },
   "outputs": [
    {
     "name": "stderr",
     "output_type": "stream",
     "text": [
      "Feature Extraction: 100%|██████████| 30/30 [00:03<00:00,  8.81it/s]\n"
     ]
    }
   ],
   "source": [
    "from tsfresh import extract_features\n",
    "extracted_features = extract_features(timeseries, column_id=\"id\", column_sort=\"time\")"
   ]
  },
  {
   "cell_type": "code",
   "execution_count": 20,
   "metadata": {
    "ExecuteTime": {
     "end_time": "2021-01-26T09:29:50.404406Z",
     "start_time": "2021-01-26T09:29:48.535758Z"
    }
   },
   "outputs": [
    {
     "name": "stderr",
     "output_type": "stream",
     "text": [
      "/home/lyz/.local/lib/python3.6/site-packages/tsfresh/utilities/dataframe_functions.py:172: RuntimeWarning:\n",
      "\n",
      "The columns ['F_x__partial_autocorrelation__lag_7'\n",
      " 'F_x__partial_autocorrelation__lag_8'\n",
      " 'F_x__partial_autocorrelation__lag_9' ...\n",
      " 'T_z__agg_linear_trend__attr_\"stderr\"__chunk_len_50__f_agg_\"min\"'\n",
      " 'T_z__agg_linear_trend__attr_\"stderr\"__chunk_len_50__f_agg_\"mean\"'\n",
      " 'T_z__agg_linear_trend__attr_\"stderr\"__chunk_len_50__f_agg_\"var\"'] did not have any finite values. Filling with zeros.\n",
      "\n"
     ]
    }
   ],
   "source": [
    "from tsfresh import select_features\n",
    "from tsfresh.utilities.dataframe_functions import impute\n",
    "\n",
    "impute(extracted_features)\n",
    "features_filtered = select_features(extracted_features, y)"
   ]
  },
  {
   "cell_type": "code",
   "execution_count": 22,
   "metadata": {
    "ExecuteTime": {
     "end_time": "2021-01-26T09:30:30.293139Z",
     "start_time": "2021-01-26T09:30:25.399087Z"
    }
   },
   "outputs": [
    {
     "name": "stderr",
     "output_type": "stream",
     "text": [
      "Feature Extraction: 100%|██████████| 30/30 [00:02<00:00, 11.29it/s]\n"
     ]
    }
   ],
   "source": [
    "from tsfresh import extract_relevant_features\n",
    "\n",
    "features_filtered_direct = extract_relevant_features(timeseries, y,\n",
    "                                                     column_id='id', column_sort='time')"
   ]
  },
  {
   "cell_type": "code",
   "execution_count": 23,
   "metadata": {
    "ExecuteTime": {
     "end_time": "2021-01-26T09:30:31.273407Z",
     "start_time": "2021-01-26T09:30:31.248303Z"
    }
   },
   "outputs": [
    {
     "data": {
      "text/html": [
       "<div>\n",
       "<style scoped>\n",
       "    .dataframe tbody tr th:only-of-type {\n",
       "        vertical-align: middle;\n",
       "    }\n",
       "\n",
       "    .dataframe tbody tr th {\n",
       "        vertical-align: top;\n",
       "    }\n",
       "\n",
       "    .dataframe thead th {\n",
       "        text-align: right;\n",
       "    }\n",
       "</style>\n",
       "<table border=\"1\" class=\"dataframe\">\n",
       "  <thead>\n",
       "    <tr style=\"text-align: right;\">\n",
       "      <th></th>\n",
       "      <th>F_x__value_count__value_-1</th>\n",
       "      <th>F_x__abs_energy</th>\n",
       "      <th>F_x__range_count__max_1__min_-1</th>\n",
       "      <th>F_y__abs_energy</th>\n",
       "      <th>T_y__variance</th>\n",
       "      <th>T_y__standard_deviation</th>\n",
       "      <th>F_x__fft_coefficient__attr_\"abs\"__coeff_1</th>\n",
       "      <th>T_y__fft_coefficient__attr_\"abs\"__coeff_1</th>\n",
       "      <th>T_y__abs_energy</th>\n",
       "      <th>F_z__standard_deviation</th>\n",
       "      <th>...</th>\n",
       "      <th>T_x__change_quantiles__f_agg_\"var\"__isabs_True__qh_0.2__ql_0.0</th>\n",
       "      <th>F_z__change_quantiles__f_agg_\"mean\"__isabs_True__qh_1.0__ql_0.8</th>\n",
       "      <th>T_x__quantile__q_0.1</th>\n",
       "      <th>F_y__has_duplicate_max</th>\n",
       "      <th>F_y__cwt_coefficients__coeff_13__w_2__widths_(2, 5, 10, 20)</th>\n",
       "      <th>F_y__cwt_coefficients__coeff_14__w_5__widths_(2, 5, 10, 20)</th>\n",
       "      <th>T_y__quantile__q_0.1</th>\n",
       "      <th>F_z__time_reversal_asymmetry_statistic__lag_1</th>\n",
       "      <th>F_x__quantile__q_0.2</th>\n",
       "      <th>F_y__quantile__q_0.7</th>\n",
       "    </tr>\n",
       "  </thead>\n",
       "  <tbody>\n",
       "    <tr>\n",
       "      <th>1</th>\n",
       "      <td>14.0</td>\n",
       "      <td>14.0</td>\n",
       "      <td>15.0</td>\n",
       "      <td>13.0</td>\n",
       "      <td>0.222222</td>\n",
       "      <td>0.471405</td>\n",
       "      <td>1.000000</td>\n",
       "      <td>1.165352</td>\n",
       "      <td>10.0</td>\n",
       "      <td>1.203698</td>\n",
       "      <td>...</td>\n",
       "      <td>0.000000</td>\n",
       "      <td>0.0</td>\n",
       "      <td>-3.0</td>\n",
       "      <td>1.0</td>\n",
       "      <td>-0.310265</td>\n",
       "      <td>-0.751682</td>\n",
       "      <td>-1.0</td>\n",
       "      <td>-5.960000e+02</td>\n",
       "      <td>-1.0</td>\n",
       "      <td>-1.0</td>\n",
       "    </tr>\n",
       "    <tr>\n",
       "      <th>2</th>\n",
       "      <td>7.0</td>\n",
       "      <td>25.0</td>\n",
       "      <td>13.0</td>\n",
       "      <td>76.0</td>\n",
       "      <td>4.222222</td>\n",
       "      <td>2.054805</td>\n",
       "      <td>0.624118</td>\n",
       "      <td>6.020261</td>\n",
       "      <td>90.0</td>\n",
       "      <td>4.333846</td>\n",
       "      <td>...</td>\n",
       "      <td>0.000000</td>\n",
       "      <td>1.0</td>\n",
       "      <td>-9.2</td>\n",
       "      <td>1.0</td>\n",
       "      <td>-0.202951</td>\n",
       "      <td>0.057818</td>\n",
       "      <td>-3.6</td>\n",
       "      <td>-6.803846e+02</td>\n",
       "      <td>-1.0</td>\n",
       "      <td>-1.0</td>\n",
       "    </tr>\n",
       "    <tr>\n",
       "      <th>3</th>\n",
       "      <td>11.0</td>\n",
       "      <td>12.0</td>\n",
       "      <td>14.0</td>\n",
       "      <td>40.0</td>\n",
       "      <td>3.128889</td>\n",
       "      <td>1.768867</td>\n",
       "      <td>2.203858</td>\n",
       "      <td>8.235442</td>\n",
       "      <td>103.0</td>\n",
       "      <td>4.616877</td>\n",
       "      <td>...</td>\n",
       "      <td>0.000000</td>\n",
       "      <td>3.0</td>\n",
       "      <td>-6.6</td>\n",
       "      <td>0.0</td>\n",
       "      <td>0.539121</td>\n",
       "      <td>0.912474</td>\n",
       "      <td>-4.0</td>\n",
       "      <td>-6.170000e+02</td>\n",
       "      <td>-1.0</td>\n",
       "      <td>0.0</td>\n",
       "    </tr>\n",
       "    <tr>\n",
       "      <th>4</th>\n",
       "      <td>5.0</td>\n",
       "      <td>16.0</td>\n",
       "      <td>10.0</td>\n",
       "      <td>60.0</td>\n",
       "      <td>7.128889</td>\n",
       "      <td>2.669998</td>\n",
       "      <td>0.844394</td>\n",
       "      <td>12.067855</td>\n",
       "      <td>124.0</td>\n",
       "      <td>3.833188</td>\n",
       "      <td>...</td>\n",
       "      <td>0.000000</td>\n",
       "      <td>0.0</td>\n",
       "      <td>-9.0</td>\n",
       "      <td>0.0</td>\n",
       "      <td>-2.641390</td>\n",
       "      <td>-0.609735</td>\n",
       "      <td>-4.6</td>\n",
       "      <td>3.426308e+03</td>\n",
       "      <td>-1.0</td>\n",
       "      <td>1.0</td>\n",
       "    </tr>\n",
       "    <tr>\n",
       "      <th>5</th>\n",
       "      <td>9.0</td>\n",
       "      <td>17.0</td>\n",
       "      <td>13.0</td>\n",
       "      <td>46.0</td>\n",
       "      <td>4.160000</td>\n",
       "      <td>2.039608</td>\n",
       "      <td>2.730599</td>\n",
       "      <td>6.445330</td>\n",
       "      <td>180.0</td>\n",
       "      <td>4.841487</td>\n",
       "      <td>...</td>\n",
       "      <td>0.000000</td>\n",
       "      <td>0.0</td>\n",
       "      <td>-9.6</td>\n",
       "      <td>0.0</td>\n",
       "      <td>0.591927</td>\n",
       "      <td>0.072771</td>\n",
       "      <td>-5.0</td>\n",
       "      <td>-2.609000e+03</td>\n",
       "      <td>-1.0</td>\n",
       "      <td>0.8</td>\n",
       "    </tr>\n",
       "    <tr>\n",
       "      <th>...</th>\n",
       "      <td>...</td>\n",
       "      <td>...</td>\n",
       "      <td>...</td>\n",
       "      <td>...</td>\n",
       "      <td>...</td>\n",
       "      <td>...</td>\n",
       "      <td>...</td>\n",
       "      <td>...</td>\n",
       "      <td>...</td>\n",
       "      <td>...</td>\n",
       "      <td>...</td>\n",
       "      <td>...</td>\n",
       "      <td>...</td>\n",
       "      <td>...</td>\n",
       "      <td>...</td>\n",
       "      <td>...</td>\n",
       "      <td>...</td>\n",
       "      <td>...</td>\n",
       "      <td>...</td>\n",
       "      <td>...</td>\n",
       "      <td>...</td>\n",
       "    </tr>\n",
       "    <tr>\n",
       "      <th>84</th>\n",
       "      <td>0.0</td>\n",
       "      <td>96833.0</td>\n",
       "      <td>0.0</td>\n",
       "      <td>42780.0</td>\n",
       "      <td>1563.528889</td>\n",
       "      <td>39.541483</td>\n",
       "      <td>359.248162</td>\n",
       "      <td>309.190088</td>\n",
       "      <td>171261.0</td>\n",
       "      <td>291.988082</td>\n",
       "      <td>...</td>\n",
       "      <td>64.000000</td>\n",
       "      <td>46.0</td>\n",
       "      <td>203.2</td>\n",
       "      <td>0.0</td>\n",
       "      <td>38.559593</td>\n",
       "      <td>71.641254</td>\n",
       "      <td>36.4</td>\n",
       "      <td>-7.700628e+07</td>\n",
       "      <td>-105.0</td>\n",
       "      <td>66.8</td>\n",
       "    </tr>\n",
       "    <tr>\n",
       "      <th>85</th>\n",
       "      <td>0.0</td>\n",
       "      <td>1683.0</td>\n",
       "      <td>0.0</td>\n",
       "      <td>1523.0</td>\n",
       "      <td>14.755556</td>\n",
       "      <td>3.841296</td>\n",
       "      <td>36.770027</td>\n",
       "      <td>26.631007</td>\n",
       "      <td>503.0</td>\n",
       "      <td>14.501494</td>\n",
       "      <td>...</td>\n",
       "      <td>4.666667</td>\n",
       "      <td>4.5</td>\n",
       "      <td>-41.6</td>\n",
       "      <td>0.0</td>\n",
       "      <td>14.429645</td>\n",
       "      <td>16.349699</td>\n",
       "      <td>1.0</td>\n",
       "      <td>-1.050785e+04</td>\n",
       "      <td>5.8</td>\n",
       "      <td>10.6</td>\n",
       "    </tr>\n",
       "    <tr>\n",
       "      <th>86</th>\n",
       "      <td>0.0</td>\n",
       "      <td>83497.0</td>\n",
       "      <td>0.0</td>\n",
       "      <td>21064.0</td>\n",
       "      <td>2788.595556</td>\n",
       "      <td>52.807154</td>\n",
       "      <td>312.044052</td>\n",
       "      <td>429.697740</td>\n",
       "      <td>118013.0</td>\n",
       "      <td>121.420189</td>\n",
       "      <td>...</td>\n",
       "      <td>0.250000</td>\n",
       "      <td>7.0</td>\n",
       "      <td>-84.8</td>\n",
       "      <td>0.0</td>\n",
       "      <td>60.760842</td>\n",
       "      <td>71.095480</td>\n",
       "      <td>19.6</td>\n",
       "      <td>-5.544922e+06</td>\n",
       "      <td>30.4</td>\n",
       "      <td>38.4</td>\n",
       "    </tr>\n",
       "    <tr>\n",
       "      <th>87</th>\n",
       "      <td>0.0</td>\n",
       "      <td>1405437.0</td>\n",
       "      <td>0.0</td>\n",
       "      <td>308658.0</td>\n",
       "      <td>6415.715556</td>\n",
       "      <td>80.098162</td>\n",
       "      <td>481.046930</td>\n",
       "      <td>683.196535</td>\n",
       "      <td>2430295.0</td>\n",
       "      <td>204.966621</td>\n",
       "      <td>...</td>\n",
       "      <td>0.000000</td>\n",
       "      <td>90.5</td>\n",
       "      <td>-139.2</td>\n",
       "      <td>0.0</td>\n",
       "      <td>109.029954</td>\n",
       "      <td>173.699573</td>\n",
       "      <td>272.6</td>\n",
       "      <td>-9.881845e+07</td>\n",
       "      <td>246.8</td>\n",
       "      <td>154.8</td>\n",
       "    </tr>\n",
       "    <tr>\n",
       "      <th>88</th>\n",
       "      <td>0.0</td>\n",
       "      <td>1427.0</td>\n",
       "      <td>0.0</td>\n",
       "      <td>113.0</td>\n",
       "      <td>6.906667</td>\n",
       "      <td>2.628054</td>\n",
       "      <td>15.524355</td>\n",
       "      <td>16.768541</td>\n",
       "      <td>7630.0</td>\n",
       "      <td>10.627010</td>\n",
       "      <td>...</td>\n",
       "      <td>4.666667</td>\n",
       "      <td>0.0</td>\n",
       "      <td>-24.6</td>\n",
       "      <td>0.0</td>\n",
       "      <td>2.455593</td>\n",
       "      <td>3.226801</td>\n",
       "      <td>-26.2</td>\n",
       "      <td>-1.340477e+04</td>\n",
       "      <td>-11.2</td>\n",
       "      <td>3.0</td>\n",
       "    </tr>\n",
       "  </tbody>\n",
       "</table>\n",
       "<p>88 rows × 671 columns</p>\n",
       "</div>"
      ],
      "text/plain": [
       "    F_x__value_count__value_-1  F_x__abs_energy  \\\n",
       "1                         14.0             14.0   \n",
       "2                          7.0             25.0   \n",
       "3                         11.0             12.0   \n",
       "4                          5.0             16.0   \n",
       "5                          9.0             17.0   \n",
       "..                         ...              ...   \n",
       "84                         0.0          96833.0   \n",
       "85                         0.0           1683.0   \n",
       "86                         0.0          83497.0   \n",
       "87                         0.0        1405437.0   \n",
       "88                         0.0           1427.0   \n",
       "\n",
       "    F_x__range_count__max_1__min_-1  F_y__abs_energy  T_y__variance  \\\n",
       "1                              15.0             13.0       0.222222   \n",
       "2                              13.0             76.0       4.222222   \n",
       "3                              14.0             40.0       3.128889   \n",
       "4                              10.0             60.0       7.128889   \n",
       "5                              13.0             46.0       4.160000   \n",
       "..                              ...              ...            ...   \n",
       "84                              0.0          42780.0    1563.528889   \n",
       "85                              0.0           1523.0      14.755556   \n",
       "86                              0.0          21064.0    2788.595556   \n",
       "87                              0.0         308658.0    6415.715556   \n",
       "88                              0.0            113.0       6.906667   \n",
       "\n",
       "    T_y__standard_deviation  F_x__fft_coefficient__attr_\"abs\"__coeff_1  \\\n",
       "1                  0.471405                                   1.000000   \n",
       "2                  2.054805                                   0.624118   \n",
       "3                  1.768867                                   2.203858   \n",
       "4                  2.669998                                   0.844394   \n",
       "5                  2.039608                                   2.730599   \n",
       "..                      ...                                        ...   \n",
       "84                39.541483                                 359.248162   \n",
       "85                 3.841296                                  36.770027   \n",
       "86                52.807154                                 312.044052   \n",
       "87                80.098162                                 481.046930   \n",
       "88                 2.628054                                  15.524355   \n",
       "\n",
       "    T_y__fft_coefficient__attr_\"abs\"__coeff_1  T_y__abs_energy  \\\n",
       "1                                    1.165352             10.0   \n",
       "2                                    6.020261             90.0   \n",
       "3                                    8.235442            103.0   \n",
       "4                                   12.067855            124.0   \n",
       "5                                    6.445330            180.0   \n",
       "..                                        ...              ...   \n",
       "84                                 309.190088         171261.0   \n",
       "85                                  26.631007            503.0   \n",
       "86                                 429.697740         118013.0   \n",
       "87                                 683.196535        2430295.0   \n",
       "88                                  16.768541           7630.0   \n",
       "\n",
       "    F_z__standard_deviation  ...  \\\n",
       "1                  1.203698  ...   \n",
       "2                  4.333846  ...   \n",
       "3                  4.616877  ...   \n",
       "4                  3.833188  ...   \n",
       "5                  4.841487  ...   \n",
       "..                      ...  ...   \n",
       "84               291.988082  ...   \n",
       "85                14.501494  ...   \n",
       "86               121.420189  ...   \n",
       "87               204.966621  ...   \n",
       "88                10.627010  ...   \n",
       "\n",
       "    T_x__change_quantiles__f_agg_\"var\"__isabs_True__qh_0.2__ql_0.0  \\\n",
       "1                                            0.000000                \n",
       "2                                            0.000000                \n",
       "3                                            0.000000                \n",
       "4                                            0.000000                \n",
       "5                                            0.000000                \n",
       "..                                                ...                \n",
       "84                                          64.000000                \n",
       "85                                           4.666667                \n",
       "86                                           0.250000                \n",
       "87                                           0.000000                \n",
       "88                                           4.666667                \n",
       "\n",
       "    F_z__change_quantiles__f_agg_\"mean\"__isabs_True__qh_1.0__ql_0.8  \\\n",
       "1                                                 0.0                 \n",
       "2                                                 1.0                 \n",
       "3                                                 3.0                 \n",
       "4                                                 0.0                 \n",
       "5                                                 0.0                 \n",
       "..                                                ...                 \n",
       "84                                               46.0                 \n",
       "85                                                4.5                 \n",
       "86                                                7.0                 \n",
       "87                                               90.5                 \n",
       "88                                                0.0                 \n",
       "\n",
       "    T_x__quantile__q_0.1  F_y__has_duplicate_max  \\\n",
       "1                   -3.0                     1.0   \n",
       "2                   -9.2                     1.0   \n",
       "3                   -6.6                     0.0   \n",
       "4                   -9.0                     0.0   \n",
       "5                   -9.6                     0.0   \n",
       "..                   ...                     ...   \n",
       "84                 203.2                     0.0   \n",
       "85                 -41.6                     0.0   \n",
       "86                 -84.8                     0.0   \n",
       "87                -139.2                     0.0   \n",
       "88                 -24.6                     0.0   \n",
       "\n",
       "    F_y__cwt_coefficients__coeff_13__w_2__widths_(2, 5, 10, 20)  \\\n",
       "1                                           -0.310265             \n",
       "2                                           -0.202951             \n",
       "3                                            0.539121             \n",
       "4                                           -2.641390             \n",
       "5                                            0.591927             \n",
       "..                                                ...             \n",
       "84                                          38.559593             \n",
       "85                                          14.429645             \n",
       "86                                          60.760842             \n",
       "87                                         109.029954             \n",
       "88                                           2.455593             \n",
       "\n",
       "    F_y__cwt_coefficients__coeff_14__w_5__widths_(2, 5, 10, 20)  \\\n",
       "1                                           -0.751682             \n",
       "2                                            0.057818             \n",
       "3                                            0.912474             \n",
       "4                                           -0.609735             \n",
       "5                                            0.072771             \n",
       "..                                                ...             \n",
       "84                                          71.641254             \n",
       "85                                          16.349699             \n",
       "86                                          71.095480             \n",
       "87                                         173.699573             \n",
       "88                                           3.226801             \n",
       "\n",
       "    T_y__quantile__q_0.1  F_z__time_reversal_asymmetry_statistic__lag_1  \\\n",
       "1                   -1.0                                  -5.960000e+02   \n",
       "2                   -3.6                                  -6.803846e+02   \n",
       "3                   -4.0                                  -6.170000e+02   \n",
       "4                   -4.6                                   3.426308e+03   \n",
       "5                   -5.0                                  -2.609000e+03   \n",
       "..                   ...                                            ...   \n",
       "84                  36.4                                  -7.700628e+07   \n",
       "85                   1.0                                  -1.050785e+04   \n",
       "86                  19.6                                  -5.544922e+06   \n",
       "87                 272.6                                  -9.881845e+07   \n",
       "88                 -26.2                                  -1.340477e+04   \n",
       "\n",
       "    F_x__quantile__q_0.2  F_y__quantile__q_0.7  \n",
       "1                   -1.0                  -1.0  \n",
       "2                   -1.0                  -1.0  \n",
       "3                   -1.0                   0.0  \n",
       "4                   -1.0                   1.0  \n",
       "5                   -1.0                   0.8  \n",
       "..                   ...                   ...  \n",
       "84                -105.0                  66.8  \n",
       "85                   5.8                  10.6  \n",
       "86                  30.4                  38.4  \n",
       "87                 246.8                 154.8  \n",
       "88                 -11.2                   3.0  \n",
       "\n",
       "[88 rows x 671 columns]"
      ]
     },
     "execution_count": 23,
     "metadata": {},
     "output_type": "execute_result"
    }
   ],
   "source": [
    "features_filtered_direct"
   ]
  },
  {
   "cell_type": "markdown",
   "metadata": {},
   "source": [
    "# pyts"
   ]
  },
  {
   "cell_type": "code",
   "execution_count": 38,
   "metadata": {
    "ExecuteTime": {
     "end_time": "2021-01-26T09:39:20.469537Z",
     "start_time": "2021-01-26T09:39:20.245128Z"
    }
   },
   "outputs": [
    {
     "name": "stdout",
     "output_type": "stream",
     "text": [
      "(50, 150) (50,)\n",
      "0.98\n",
      "0.9533333333333334\n"
     ]
    },
    {
     "name": "stderr",
     "output_type": "stream",
     "text": [
      "/home/lyz/.local/lib/python3.6/site-packages/pyts/bag_of_words/bow.py:246: FutureWarning:\n",
      "\n",
      "BagOfWords has been reworked in 0.11 in order to match its definition in the literature. To get the old BagOfWords, use pyts.bag_of_words.WordExtractor instead.\n",
      "\n"
     ]
    }
   ],
   "source": [
    "from pyts.classification import *\n",
    "from pyts.datasets import load_gunpoint\n",
    "X_train, X_test, y_train, y_test = load_gunpoint(return_X_y=True)\n",
    "print(X_train.shape, y_train.shape)\n",
    "\n",
    "clf = BOSSVS(window_size=28)\n",
    "clf.fit(X_train, y_train)\n",
    "print(clf.score(X_test, y_test))\n",
    "\n",
    "clf = SAXVSM()\n",
    "clf.fit(X_train, y_train)\n",
    "print(clf.score(X_test, y_test))"
   ]
  },
  {
   "cell_type": "code",
   "execution_count": 39,
   "metadata": {
    "ExecuteTime": {
     "end_time": "2021-01-26T09:44:45.349831Z",
     "start_time": "2021-01-26T09:44:29.270459Z"
    }
   },
   "outputs": [
    {
     "name": "stderr",
     "output_type": "stream",
     "text": [
      "/home/lyz/.local/lib/python3.6/site-packages/sklearn/utils/validation.py:70: FutureWarning:\n",
      "\n",
      "Pass classes=[1 2], y=[2 2 1 1 2 2 2 2 2 1 1 1 1 1 2 1 2 2 1 2 1 1 1 2 1 2 1 1 2 1 1 2 2 1 2 1 2\n",
      " 2 2 2 2 1 1 1 2 2 1 2 1 2] as keyword args. From version 0.25 passing these as positional arguments will result in an error\n",
      "\n",
      "/home/lyz/.local/lib/python3.6/site-packages/numpy/core/_asarray.py:83: VisibleDeprecationWarning:\n",
      "\n",
      "Creating an ndarray from ragged nested sequences (which is a list-or-tuple of lists-or-tuples-or ndarrays with different lengths or shapes) is deprecated. If you meant to do this, you must specify 'dtype=object' when creating the ndarray\n",
      "\n"
     ]
    },
    {
     "data": {
      "image/png": "[encoded data removed]",
      "text/plain": [
       "<Figure size 1008x288 with 2 Axes>"
      ]
     },
     "metadata": {
      "needs_background": "light"
     },
     "output_type": "display_data"
    }
   ],
   "source": [
    "from pyts.utils import windowed_view\n",
    "\n",
    "# Load the data set and fit the classifier\n",
    "X, _, y, _ = load_gunpoint(return_X_y=True)\n",
    "clf = LearningShapelets(random_state=42, tol=0.01)\n",
    "clf.fit(X, y)\n",
    "\n",
    "# Select two shapelets\n",
    "shapelets = np.asarray([clf.shapelets_[0, -9], clf.shapelets_[0, -12]])\n",
    "\n",
    "# Derive the distances between the time series and the shapelets\n",
    "shapelet_size = shapelets.shape[1]\n",
    "X_window = windowed_view(X, window_size=shapelet_size, window_step=1)\n",
    "X_dist = np.mean(\n",
    "    (X_window[:, :, None] - shapelets[None, :]) ** 2, axis=3).min(axis=1)\n",
    "\n",
    "plt.figure(figsize=(14, 4))\n",
    "\n",
    "# Plot the two shapelets\n",
    "plt.subplot(1, 2, 1)\n",
    "plt.plot(shapelets[0])\n",
    "plt.plot(shapelets[1])\n",
    "plt.title('Two learned shapelets', fontsize=14)\n",
    "\n",
    "# Plot the distances\n",
    "plt.subplot(1, 2, 2)\n",
    "for color, label in zip('br', (1, 2)):\n",
    "    plt.scatter(X_dist[y == label, 0], X_dist[y == label, 1],\n",
    "                c=color, label='Class {}'.format(label))\n",
    "plt.title('Distances between the time series and both shapelets',\n",
    "          fontsize=14)\n",
    "plt.legend()\n",
    "plt.show()"
   ]
  },
  {
   "cell_type": "code",
   "execution_count": 41,
   "metadata": {
    "ExecuteTime": {
     "end_time": "2021-01-26T09:45:31.431422Z",
     "start_time": "2021-01-26T09:45:31.403777Z"
    }
   },
   "outputs": [
    {
     "name": "stderr",
     "output_type": "stream",
     "text": [
      "/home/lyz/.local/lib/python3.6/site-packages/pyts/bag_of_words/bow.py:246: FutureWarning:\n",
      "\n",
      "BagOfWords has been reworked in 0.11 in order to match its definition in the literature. To get the old BagOfWords, use pyts.bag_of_words.WordExtractor instead.\n",
      "\n"
     ]
    }
   ],
   "source": [
    "from pyts.bag_of_words import BagOfWords\n",
    "X, _, _, _ = load_gunpoint(return_X_y=True)\n",
    "window_size, word_size = 30, 5\n",
    "bow = BagOfWords(window_size=window_size, word_size=word_size,\n",
    "                 window_step=window_size, numerosity_reduction=False)\n",
    "X_bow = bow.transform(X)\n"
   ]
  },
  {
   "cell_type": "code",
   "execution_count": 42,
   "metadata": {
    "ExecuteTime": {
     "end_time": "2021-01-26T09:45:34.539743Z",
     "start_time": "2021-01-26T09:45:34.534643Z"
    }
   },
   "outputs": [
    {
     "data": {
      "text/plain": [
       "array(['ddaaa bbbbd acccc ddbaa acdcc', 'abbdd bbbbd acccb dcbaa abccd',\n",
       "       'bdbac abbcd cddba dcbaa dbabb', 'abbbd aabcd cccca dcbaa dabcc',\n",
       "       'abcdd aabcd cccca cabcc ddbaa', 'dcbaa aabcd cccca dcabb ddbaa',\n",
       "       'bbbbd acccc ccdca cccba dabbb', 'bbbbd acccc cdcaa ccaad cccca',\n",
       "       'bbbcd dccaa cccca dcbaa bcabd', 'aabdd aacdd dcabb ddcaa ddcaa',\n",
       "       'aacdd aacdd cccca dcbaa dabcc', 'aabdd aacdd dccaa ddcaa ddbaa',\n",
       "       'babbd aabdd ddbaa cccca dbbbb', 'abbcd aacdd dcabb ddcaa ddcaa',\n",
       "       'abcdc bbbbd acccc dcaab acdca', 'aabdd aacdd ddcba ddcaa ddcaa',\n",
       "       'abcdd aabcd acccc ddbaa cbabd', 'ddbba bbbbd acccc dcbaa acdcb',\n",
       "       'aaadd aacdd aabcd ddcaa ddaaa', 'bbbbd acdcb dbabd ddbaa bdcba',\n",
       "       'acccc abbbd acccc ddcaa ddaab', 'cdbac aacdd ddcba ddbaa ddaab',\n",
       "       'abbcd aacdd dcbca ddcaa ddcba', 'bbbbd acccc ddbaa dccba ddcba',\n",
       "       'abbbd aabcd cccca dbbbb aacdd', 'bbbcd dccaa ddcba dbbbb dcbaa',\n",
       "       'aaadd aacdd dcbaa ddcaa ddcaa', 'aabdd aacdd baadd ddcaa ddcaa',\n",
       "       'aaacd ddbba dbbca ddbaa abcdc', 'abbcd aabdd acdcc dccba dcbaa',\n",
       "       'aabdd aacdd cccca dbbba abcdd', 'bbbbd acccc aabcd cccca dcbaa',\n",
       "       'bbbbd abccd cccca dcabb acccd', 'ddbaa abbcd bccca dcbaa dbbbb',\n",
       "       'abcdd aabcd bcdca dbabb baacd', 'ddcaa aabcd cccca dbbbb aacdd',\n",
       "       'bbbbd acccc cccca cdcba dbbbb', 'dcbba bbbbd acdca dcabb abbcd',\n",
       "       'bbbbd acccc acacd caccb ddcaa', 'bbbbd acccc dcbbb ddcba abcdd',\n",
       "       'acccc aabcd acdca dcbaa adcbc', 'aaadd aabdd abcdc ddcba dccba',\n",
       "       'aabdd aacdd cccca dcbaa dabbb', 'abbcd aacdd dcbaa ddbaa ddcaa',\n",
       "       'bbbcd babcd ddcba ddbaa bddba', 'cdcba aabcd cccca dbabb dcbaa',\n",
       "       'abadd aaacd cccca dbbbb dbabb', 'aacdd bbbbd acccb dcaab acccd',\n",
       "       'aabcd aabcd cccca dbabb dabcc', 'bbbbd abccc dbcac cccca dbabb'],\n",
       "      dtype='<U29')"
      ]
     },
     "execution_count": 42,
     "metadata": {},
     "output_type": "execute_result"
    }
   ],
   "source": [
    "X_bow"
   ]
  },
  {
   "cell_type": "markdown",
   "metadata": {},
   "source": [
    "# sktime\n",
    "\n",
    "https://github.com/alan-turing-institute/sktime\n",
    "\n",
    "https://github.com/alan-turing-institute/sktime/blob/master/examples/02_classification_univariate.ipynb\n",
    "\n",
    "https://github.com/sktime/sktime-dl/blob/master/examples/univariate_time_series_classification.ipynb"
   ]
  },
  {
   "cell_type": "code",
   "execution_count": 49,
   "metadata": {
    "ExecuteTime": {
     "end_time": "2021-01-26T09:53:18.452810Z",
     "start_time": "2021-01-26T09:52:42.772896Z"
    }
   },
   "outputs": [],
   "source": [
    "from sktime.classification.all import *\n",
    "from sklearn.model_selection import train_test_split\n",
    "from sklearn.metrics import accuracy_score\n",
    "\n",
    "X, y = load_arrow_head(return_X_y=True)\n",
    "X_train, X_test, y_train, y_test = train_test_split(X, y)\n",
    "classifier = TimeSeriesForest()\n",
    "classifier.fit(X_train, y_train)\n",
    "y_pred = classifier.predict(X_test)"
   ]
  },
  {
   "cell_type": "code",
   "execution_count": null,
   "metadata": {},
   "outputs": [],
   "source": []
  }
 ],
 "metadata": {
  "kernelspec": {
   "display_name": "Python 3",
   "language": "python",
   "name": "python3"
  },
  "language_info": {
   "codemirror_mode": {
    "name": "ipython",
    "version": 3
   },
   "file_extension": ".py",
   "mimetype": "text/x-python",
   "name": "python",
   "nbconvert_exporter": "python",
   "pygments_lexer": "ipython3",
   "version": "3.6.9"
  },
  "toc": {
   "base_numbering": 1,
   "nav_menu": {},
   "number_sections": true,
   "sideBar": true,
   "skip_h1_title": false,
   "title_cell": "Table of Contents",
   "title_sidebar": "Contents",
   "toc_cell": false,
   "toc_position": {},
   "toc_section_display": true,
   "toc_window_display": false
  }
 },
 "nbformat": 4,
 "nbformat_minor": 2
}
